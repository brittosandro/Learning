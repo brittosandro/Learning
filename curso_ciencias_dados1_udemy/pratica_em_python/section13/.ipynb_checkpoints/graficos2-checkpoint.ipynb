{
 "cells": [
  {
   "cell_type": "code",
   "execution_count": 1,
   "id": "181a4bd4-1dea-447d-938b-79e87159feaa",
   "metadata": {},
   "outputs": [],
   "source": [
    "import pandas as pd\n",
    "import matplotlib.pyplot as plt\n",
    "import numpy as np\n",
    "import seaborn as sns"
   ]
  },
  {
   "cell_type": "code",
   "execution_count": 2,
   "id": "24b36221-3b08-4b95-814b-6c091db08386",
   "metadata": {},
   "outputs": [],
   "source": [
    "dados_frangos = pd.read_csv('chicken.csv')"
   ]
  },
  {
   "cell_type": "code",
   "execution_count": 3,
   "id": "7bd310aa-3644-4486-940d-e30beb44d427",
   "metadata": {},
   "outputs": [
    {
     "data": {
      "text/html": [
       "<div>\n",
       "<style scoped>\n",
       "    .dataframe tbody tr th:only-of-type {\n",
       "        vertical-align: middle;\n",
       "    }\n",
       "\n",
       "    .dataframe tbody tr th {\n",
       "        vertical-align: top;\n",
       "    }\n",
       "\n",
       "    .dataframe thead th {\n",
       "        text-align: right;\n",
       "    }\n",
       "</style>\n",
       "<table border=\"1\" class=\"dataframe\">\n",
       "  <thead>\n",
       "    <tr style=\"text-align: right;\">\n",
       "      <th></th>\n",
       "      <th>weight</th>\n",
       "      <th>feed</th>\n",
       "    </tr>\n",
       "  </thead>\n",
       "  <tbody>\n",
       "    <tr>\n",
       "      <th>0</th>\n",
       "      <td>179</td>\n",
       "      <td>horsebean</td>\n",
       "    </tr>\n",
       "    <tr>\n",
       "      <th>1</th>\n",
       "      <td>160</td>\n",
       "      <td>horsebean</td>\n",
       "    </tr>\n",
       "    <tr>\n",
       "      <th>2</th>\n",
       "      <td>136</td>\n",
       "      <td>horsebean</td>\n",
       "    </tr>\n",
       "    <tr>\n",
       "      <th>3</th>\n",
       "      <td>227</td>\n",
       "      <td>horsebean</td>\n",
       "    </tr>\n",
       "    <tr>\n",
       "      <th>4</th>\n",
       "      <td>217</td>\n",
       "      <td>horsebean</td>\n",
       "    </tr>\n",
       "  </tbody>\n",
       "</table>\n",
       "</div>"
      ],
      "text/plain": [
       "   weight       feed\n",
       "0     179  horsebean\n",
       "1     160  horsebean\n",
       "2     136  horsebean\n",
       "3     227  horsebean\n",
       "4     217  horsebean"
      ]
     },
     "execution_count": 3,
     "metadata": {},
     "output_type": "execute_result"
    }
   ],
   "source": [
    "dados_frangos.head()"
   ]
  },
  {
   "cell_type": "code",
   "execution_count": 4,
   "id": "6a230787-b37d-4f01-b39a-3f4b2a251ee4",
   "metadata": {},
   "outputs": [
    {
     "data": {
      "text/html": [
       "<div>\n",
       "<style scoped>\n",
       "    .dataframe tbody tr th:only-of-type {\n",
       "        vertical-align: middle;\n",
       "    }\n",
       "\n",
       "    .dataframe tbody tr th {\n",
       "        vertical-align: top;\n",
       "    }\n",
       "\n",
       "    .dataframe thead th {\n",
       "        text-align: right;\n",
       "    }\n",
       "</style>\n",
       "<table border=\"1\" class=\"dataframe\">\n",
       "  <thead>\n",
       "    <tr style=\"text-align: right;\">\n",
       "      <th></th>\n",
       "      <th>weight</th>\n",
       "      <th>feed</th>\n",
       "    </tr>\n",
       "  </thead>\n",
       "  <tbody>\n",
       "    <tr>\n",
       "      <th>0</th>\n",
       "      <td>179</td>\n",
       "      <td>horsebean</td>\n",
       "    </tr>\n",
       "    <tr>\n",
       "      <th>1</th>\n",
       "      <td>160</td>\n",
       "      <td>horsebean</td>\n",
       "    </tr>\n",
       "    <tr>\n",
       "      <th>2</th>\n",
       "      <td>136</td>\n",
       "      <td>horsebean</td>\n",
       "    </tr>\n",
       "    <tr>\n",
       "      <th>3</th>\n",
       "      <td>227</td>\n",
       "      <td>horsebean</td>\n",
       "    </tr>\n",
       "    <tr>\n",
       "      <th>4</th>\n",
       "      <td>217</td>\n",
       "      <td>horsebean</td>\n",
       "    </tr>\n",
       "    <tr>\n",
       "      <th>...</th>\n",
       "      <td>...</td>\n",
       "      <td>...</td>\n",
       "    </tr>\n",
       "    <tr>\n",
       "      <th>66</th>\n",
       "      <td>359</td>\n",
       "      <td>casein</td>\n",
       "    </tr>\n",
       "    <tr>\n",
       "      <th>67</th>\n",
       "      <td>216</td>\n",
       "      <td>casein</td>\n",
       "    </tr>\n",
       "    <tr>\n",
       "      <th>68</th>\n",
       "      <td>222</td>\n",
       "      <td>casein</td>\n",
       "    </tr>\n",
       "    <tr>\n",
       "      <th>69</th>\n",
       "      <td>283</td>\n",
       "      <td>casein</td>\n",
       "    </tr>\n",
       "    <tr>\n",
       "      <th>70</th>\n",
       "      <td>332</td>\n",
       "      <td>casein</td>\n",
       "    </tr>\n",
       "  </tbody>\n",
       "</table>\n",
       "<p>71 rows × 2 columns</p>\n",
       "</div>"
      ],
      "text/plain": [
       "    weight       feed\n",
       "0      179  horsebean\n",
       "1      160  horsebean\n",
       "2      136  horsebean\n",
       "3      227  horsebean\n",
       "4      217  horsebean\n",
       "..     ...        ...\n",
       "66     359     casein\n",
       "67     216     casein\n",
       "68     222     casein\n",
       "69     283     casein\n",
       "70     332     casein\n",
       "\n",
       "[71 rows x 2 columns]"
      ]
     },
     "execution_count": 4,
     "metadata": {},
     "output_type": "execute_result"
    }
   ],
   "source": [
    "dados_frangos"
   ]
  },
  {
   "cell_type": "markdown",
   "id": "16de6b6d-d775-4219-94b0-2b1ea6b24a7e",
   "metadata": {},
   "source": [
    "Essa base de dados nos fornece explicações sobre os produtos que foram utilizados para alimentar um conjunto de frangos.\n",
    "Estabelecendo as informações sobre o peso (weight) e alimentação (feed). Temos como objetivo mostrar as informações em\n",
    "forma de gráfico, de tal que fique claro para o cliente o melhor alimento com o menor custo. \n",
    "\n",
    "Buscando mostrar essas informações deveremos filtrar os dados para que sejam apresentados de maneira mais eficiente."
   ]
  },
  {
   "cell_type": "code",
   "execution_count": 7,
   "id": "0d1cb9e8-aa5d-4b5e-9359-ef6067d09dd3",
   "metadata": {},
   "outputs": [
    {
     "data": {
      "text/plain": [
       "feed\n",
       "casein       3883\n",
       "horsebean    1602\n",
       "linseed      2625\n",
       "meatmeal     3046\n",
       "soybean      3450\n",
       "sunflower    3947\n",
       "Name: weight, dtype: int64"
      ]
     },
     "execution_count": 7,
     "metadata": {},
     "output_type": "execute_result"
    }
   ],
   "source": [
    "# Vamos agrupar os dados em feed e weight\n",
    "agrupando_dados = dados_frangos.groupby(['feed'])['weight'].sum()\n",
    "agrupando_dados"
   ]
  },
  {
   "cell_type": "markdown",
   "id": "ff9213ea-f6e5-4434-8f57-1d61bab10be2",
   "metadata": {},
   "source": [
    "Note pela tabela acima que agrupamos os dados de acordo com a alimentação. Sendo os tipos de alimentação classificados como:\n",
    "caseina, horsebean, .... Agora podemos gerar histogramas que apresentem os dados de maneira independente, ou seja, gráficos\n",
    "com alimentação pela caseina ou por algum tipo de feijão.\n",
    "\n",
    "Assim deveremos filtrar os dados de acordo com o tipo de alimentação para gerar o gráfico."
   ]
  },
  {
   "cell_type": "code",
   "execution_count": 10,
   "id": "94ffd28d-d1af-4d5c-a276-ca0240075a8a",
   "metadata": {},
   "outputs": [
    {
     "data": {
      "text/html": [
       "<div>\n",
       "<style scoped>\n",
       "    .dataframe tbody tr th:only-of-type {\n",
       "        vertical-align: middle;\n",
       "    }\n",
       "\n",
       "    .dataframe tbody tr th {\n",
       "        vertical-align: top;\n",
       "    }\n",
       "\n",
       "    .dataframe thead th {\n",
       "        text-align: right;\n",
       "    }\n",
       "</style>\n",
       "<table border=\"1\" class=\"dataframe\">\n",
       "  <thead>\n",
       "    <tr style=\"text-align: right;\">\n",
       "      <th></th>\n",
       "      <th>weight</th>\n",
       "      <th>feed</th>\n",
       "    </tr>\n",
       "  </thead>\n",
       "  <tbody>\n",
       "    <tr>\n",
       "      <th>0</th>\n",
       "      <td>179</td>\n",
       "      <td>horsebean</td>\n",
       "    </tr>\n",
       "    <tr>\n",
       "      <th>1</th>\n",
       "      <td>160</td>\n",
       "      <td>horsebean</td>\n",
       "    </tr>\n",
       "    <tr>\n",
       "      <th>2</th>\n",
       "      <td>136</td>\n",
       "      <td>horsebean</td>\n",
       "    </tr>\n",
       "    <tr>\n",
       "      <th>3</th>\n",
       "      <td>227</td>\n",
       "      <td>horsebean</td>\n",
       "    </tr>\n",
       "    <tr>\n",
       "      <th>4</th>\n",
       "      <td>217</td>\n",
       "      <td>horsebean</td>\n",
       "    </tr>\n",
       "    <tr>\n",
       "      <th>5</th>\n",
       "      <td>168</td>\n",
       "      <td>horsebean</td>\n",
       "    </tr>\n",
       "    <tr>\n",
       "      <th>6</th>\n",
       "      <td>108</td>\n",
       "      <td>horsebean</td>\n",
       "    </tr>\n",
       "    <tr>\n",
       "      <th>7</th>\n",
       "      <td>124</td>\n",
       "      <td>horsebean</td>\n",
       "    </tr>\n",
       "    <tr>\n",
       "      <th>8</th>\n",
       "      <td>143</td>\n",
       "      <td>horsebean</td>\n",
       "    </tr>\n",
       "    <tr>\n",
       "      <th>9</th>\n",
       "      <td>140</td>\n",
       "      <td>horsebean</td>\n",
       "    </tr>\n",
       "  </tbody>\n",
       "</table>\n",
       "</div>"
      ],
      "text/plain": [
       "   weight       feed\n",
       "0     179  horsebean\n",
       "1     160  horsebean\n",
       "2     136  horsebean\n",
       "3     227  horsebean\n",
       "4     217  horsebean\n",
       "5     168  horsebean\n",
       "6     108  horsebean\n",
       "7     124  horsebean\n",
       "8     143  horsebean\n",
       "9     140  horsebean"
      ]
     },
     "execution_count": 10,
     "metadata": {},
     "output_type": "execute_result"
    }
   ],
   "source": [
    "alimentacao_horsebean = dados_frangos.loc[dados_frangos['feed']=='horsebean']\n",
    "alimentacao_horsebean"
   ]
  },
  {
   "cell_type": "markdown",
   "id": "1325e54d-c1e1-4d68-81fb-c2a3ea6120c2",
   "metadata": {},
   "source": [
    "Na tabela acima estabelecemos todos os valores de acordo com a alimentação de horsebean. "
   ]
  },
  {
   "cell_type": "code",
   "execution_count": 23,
   "id": "7cb77103-0439-4ba5-84a5-5818f072e3e1",
   "metadata": {},
   "outputs": [],
   "source": [
    "# Essa ideia não deu muito certo\n",
    "#alimentos = dados_frangos['feed']\n",
    "#for alimento in alimentos:\n",
    "#    sns.histplot(dados_frangos.loc[alimentos == alimento].weight, kde=True).set(title=alimento)\n",
    "#    plt.figure()"
   ]
  },
  {
   "cell_type": "code",
   "execution_count": 24,
   "id": "d7a92cb4-2227-4813-b6ae-837c1f8813c4",
   "metadata": {},
   "outputs": [
    {
     "data": {
      "text/plain": [
       "[Text(0.5, 1.0, 'meatmeal')]"
      ]
     },
     "execution_count": 24,
     "metadata": {},
     "output_type": "execute_result"
    },
    {
     "data": {
      "image/png": "[encoded data removed]",
      "text/plain": [
       "<Figure size 432x288 with 1 Axes>"
      ]
     },
     "metadata": {
      "needs_background": "light"
     },
     "output_type": "display_data"
    }
   ],
   "source": [
    "sns.histplot(dados_frangos.loc[dados_frangos['feed'] == 'meatmeal'].weight, kde=True).set(title='meatmeal')"
   ]
  },
  {
   "cell_type": "code",
   "execution_count": 25,
   "id": "7048e152-fcfb-4d7c-83b0-c750d90f910c",
   "metadata": {},
   "outputs": [
    {
     "data": {
      "text/plain": [
       "[Text(0.5, 1.0, 'casein')]"
      ]
     },
     "execution_count": 25,
     "metadata": {},
     "output_type": "execute_result"
    },
    {
     "data": {
      "image/png": "[encoded data removed]",
      "text/plain": [
       "<Figure size 432x288 with 1 Axes>"
      ]
     },
     "metadata": {
      "needs_background": "light"
     },
     "output_type": "display_data"
    }
   ],
   "source": [
    "sns.histplot(dados_frangos.loc[dados_frangos['feed'] == 'casein'].weight, kde=True).set(title='casein')"
   ]
  },
  {
   "cell_type": "code",
   "execution_count": 26,
   "id": "8ccb9fc1-edab-4587-8c1a-c0572bad3cff",
   "metadata": {},
   "outputs": [
    {
     "data": {
      "text/plain": [
       "[Text(0.5, 1.0, 'horsebean')]"
      ]
     },
     "execution_count": 26,
     "metadata": {},
     "output_type": "execute_result"
    },
    {
     "data": {
      "image/png": "[encoded data removed]",
      "text/plain": [
       "<Figure size 432x288 with 1 Axes>"
      ]
     },
     "metadata": {
      "needs_background": "light"
     },
     "output_type": "display_data"
    }
   ],
   "source": [
    "sns.histplot(dados_frangos.loc[dados_frangos['feed'] == 'horsebean'].weight, kde=True).set(title='horsebean')"
   ]
  },
  {
   "cell_type": "code",
   "execution_count": 27,
   "id": "7130195e-47fa-4f5a-b97e-9c0916f2ebcb",
   "metadata": {},
   "outputs": [
    {
     "data": {
      "text/plain": [
       "[Text(0.5, 1.0, 'linseed')]"
      ]
     },
     "execution_count": 27,
     "metadata": {},
     "output_type": "execute_result"
    },
    {
     "data": {
      "image/png": "[encoded data removed]",
      "text/plain": [
       "<Figure size 432x288 with 1 Axes>"
      ]
     },
     "metadata": {
      "needs_background": "light"
     },
     "output_type": "display_data"
    }
   ],
   "source": [
    "sns.histplot(dados_frangos.loc[dados_frangos['feed'] == 'linseed'].weight, kde=True).set(title='linseed')"
   ]
  },
  {
   "cell_type": "code",
   "execution_count": 28,
   "id": "c426cd8f-004c-4b81-8ff3-55654089fa51",
   "metadata": {},
   "outputs": [
    {
     "data": {
      "text/plain": [
       "[Text(0.5, 1.0, 'soybean')]"
      ]
     },
     "execution_count": 28,
     "metadata": {},
     "output_type": "execute_result"
    },
    {
     "data": {
      "image/png": "[encoded data removed]",
      "text/plain": [
       "<Figure size 432x288 with 1 Axes>"
      ]
     },
     "metadata": {
      "needs_background": "light"
     },
     "output_type": "display_data"
    }
   ],
   "source": [
    "sns.histplot(dados_frangos.loc[dados_frangos['feed'] == 'soybean'].weight, kde=True).set(title='soybean')"
   ]
  },
  {
   "cell_type": "code",
   "execution_count": 29,
   "id": "a8c7dbdd-7d95-4e9b-8bb8-21a2e6b7e1db",
   "metadata": {},
   "outputs": [
    {
     "data": {
      "text/plain": [
       "[Text(0.5, 1.0, 'sunflower')]"
      ]
     },
     "execution_count": 29,
     "metadata": {},
     "output_type": "execute_result"
    },
    {
     "data": {
      "image/png": "[encoded data removed]",
      "text/plain": [
       "<Figure size 432x288 with 1 Axes>"
      ]
     },
     "metadata": {
      "needs_background": "light"
     },
     "output_type": "display_data"
    }
   ],
   "source": [
    "sns.histplot(dados_frangos.loc[dados_frangos['feed'] == 'sunflower'].weight, kde=True).set(title='sunflower')"
   ]
  },
  {
   "cell_type": "markdown",
   "id": "dbbfc292-19d3-4e60-bab3-0833254720ee",
   "metadata": {},
   "source": [
    "Note como todos os gráficos apresentam informações importantes, entretanto temos o interesse de verificar todas as \n",
    "informações um um único local, uma vez que reunir todas as informações em um só ambiente pode favorecer a leitura dos dados.\n",
    "\n",
    "Portanto vamos criar uma figura e essa figura será considerando uma matriz de dados. A matriz será formada por três linhas\n",
    "e duas colunas."
   ]
  },
  {
   "cell_type": "code",
   "execution_count": 31,
   "id": "69374965-d954-4680-b351-8714daa65ba6",
   "metadata": {},
   "outputs": [
    {
     "ename": "TypeError",
     "evalue": "subplots() takes from 0 to 2 positional arguments but 3 were given",
     "output_type": "error",
     "traceback": [
      "\u001b[0;31m---------------------------------------------------------------------------\u001b[0m",
      "\u001b[0;31mTypeError\u001b[0m                                 Traceback (most recent call last)",
      "\u001b[0;32m/tmp/ipykernel_612795/1392221888.py\u001b[0m in \u001b[0;36m<module>\u001b[0;34m\u001b[0m\n\u001b[1;32m      1\u001b[0m \u001b[0mplt\u001b[0m\u001b[0;34m.\u001b[0m\u001b[0mfigure\u001b[0m\u001b[0;34m(\u001b[0m\u001b[0;34m)\u001b[0m\u001b[0;34m\u001b[0m\u001b[0;34m\u001b[0m\u001b[0m\n\u001b[0;32m----> 2\u001b[0;31m \u001b[0mplt\u001b[0m\u001b[0;34m.\u001b[0m\u001b[0msubplots\u001b[0m\u001b[0;34m(\u001b[0m\u001b[0;36m3\u001b[0m\u001b[0;34m,\u001b[0m \u001b[0;36m2\u001b[0m\u001b[0;34m,\u001b[0m \u001b[0;36m1\u001b[0m\u001b[0;34m)\u001b[0m\u001b[0;34m\u001b[0m\u001b[0;34m\u001b[0m\u001b[0m\n\u001b[0m\u001b[1;32m      3\u001b[0m \u001b[0msns\u001b[0m\u001b[0;34m.\u001b[0m\u001b[0mhistplot\u001b[0m\u001b[0;34m(\u001b[0m\u001b[0mdados_frangos\u001b[0m\u001b[0;34m.\u001b[0m\u001b[0mloc\u001b[0m\u001b[0;34m[\u001b[0m\u001b[0mdados_frangos\u001b[0m\u001b[0;34m[\u001b[0m\u001b[0;34m'feed'\u001b[0m\u001b[0;34m]\u001b[0m \u001b[0;34m==\u001b[0m \u001b[0;34m'meatmeal'\u001b[0m\u001b[0;34m]\u001b[0m\u001b[0;34m.\u001b[0m\u001b[0mweight\u001b[0m\u001b[0;34m,\u001b[0m \u001b[0mkde\u001b[0m\u001b[0;34m=\u001b[0m\u001b[0;32mTrue\u001b[0m\u001b[0;34m)\u001b[0m\u001b[0;34m.\u001b[0m\u001b[0mset\u001b[0m\u001b[0;34m(\u001b[0m\u001b[0mtitle\u001b[0m\u001b[0;34m=\u001b[0m\u001b[0;34m'meatmeal'\u001b[0m\u001b[0;34m)\u001b[0m\u001b[0;34m\u001b[0m\u001b[0;34m\u001b[0m\u001b[0m\n\u001b[1;32m      4\u001b[0m \u001b[0mplt\u001b[0m\u001b[0;34m.\u001b[0m\u001b[0msubplots\u001b[0m\u001b[0;34m(\u001b[0m\u001b[0;36m3\u001b[0m\u001b[0;34m,\u001b[0m \u001b[0;36m2\u001b[0m\u001b[0;34m,\u001b[0m \u001b[0;36m2\u001b[0m\u001b[0;34m)\u001b[0m\u001b[0;34m\u001b[0m\u001b[0;34m\u001b[0m\u001b[0m\n\u001b[1;32m      5\u001b[0m \u001b[0msns\u001b[0m\u001b[0;34m.\u001b[0m\u001b[0mhistplot\u001b[0m\u001b[0;34m(\u001b[0m\u001b[0mdados_frangos\u001b[0m\u001b[0;34m.\u001b[0m\u001b[0mloc\u001b[0m\u001b[0;34m[\u001b[0m\u001b[0mdados_frangos\u001b[0m\u001b[0;34m[\u001b[0m\u001b[0;34m'feed'\u001b[0m\u001b[0;34m]\u001b[0m \u001b[0;34m==\u001b[0m \u001b[0;34m'casein'\u001b[0m\u001b[0;34m]\u001b[0m\u001b[0;34m.\u001b[0m\u001b[0mweight\u001b[0m\u001b[0;34m,\u001b[0m \u001b[0mkde\u001b[0m\u001b[0;34m=\u001b[0m\u001b[0;32mTrue\u001b[0m\u001b[0;34m)\u001b[0m\u001b[0;34m.\u001b[0m\u001b[0mset\u001b[0m\u001b[0;34m(\u001b[0m\u001b[0mtitle\u001b[0m\u001b[0;34m=\u001b[0m\u001b[0;34m'casein'\u001b[0m\u001b[0;34m)\u001b[0m\u001b[0;34m\u001b[0m\u001b[0;34m\u001b[0m\u001b[0m\n",
      "\u001b[0;31mTypeError\u001b[0m: subplots() takes from 0 to 2 positional arguments but 3 were given"
     ]
    },
    {
     "data": {
      "text/plain": [
       "<Figure size 432x288 with 0 Axes>"
      ]
     },
     "metadata": {},
     "output_type": "display_data"
    }
   ],
   "source": [
    "plt.figure()\n",
    "plt.subplot(3, 2, 1)\n",
    "sns.histplot(dados_frangos.loc[dados_frangos['feed'] == 'meatmeal'].weight, kde=True).set(title='meatmeal')\n",
    "plt.subplot(3, 2, 2)\n",
    "sns.histplot(dados_frangos.loc[dados_frangos['feed'] == 'casein'].weight, kde=True).set(title='casein')\n",
    "plt.subplot(3, 2, 3)\n",
    "sns.histplot(dados_frangos.loc[dados_frangos['feed'] == 'horsebean'].weight, kde=True).set(title='horsebean')\n",
    "plt.subplot(3, 2, 4)\n",
    "sns.histplot(dados_frangos.loc[dados_frangos['feed'] == 'linseed'].weight, kde=True).set(title='linseed')\n",
    "plt.subplot(3, 2, 5)\n",
    "sns.histplot(dados_frangos.loc[dados_frangos['feed'] == 'soybean'].weight, kde=True).set(title='soybean')\n",
    "plt.subplot(3, 2, 6)\n",
    "sns.histplot(dados_frangos.loc[dados_frangos['feed'] == 'sunflower'].weight, kde=True).set(title='sunflower')\n"
   ]
  },
  {
   "cell_type": "code",
   "execution_count": null,
   "id": "cfdab1e1-34eb-40d5-a94e-975342f6e033",
   "metadata": {},
   "outputs": [],
   "source": []
  }
 ],
 "metadata": {
  "kernelspec": {
   "display_name": "Python 3 (ipykernel)",
   "language": "python",
   "name": "python3"
  },
  "language_info": {
   "codemirror_mode": {
    "name": "ipython",
    "version": 3
   },
   "file_extension": ".py",
   "mimetype": "text/x-python",
   "name": "python",
   "nbconvert_exporter": "python",
   "pygments_lexer": "ipython3",
   "version": "3.9.7"
  }
 },
 "nbformat": 4,
 "nbformat_minor": 5
}
