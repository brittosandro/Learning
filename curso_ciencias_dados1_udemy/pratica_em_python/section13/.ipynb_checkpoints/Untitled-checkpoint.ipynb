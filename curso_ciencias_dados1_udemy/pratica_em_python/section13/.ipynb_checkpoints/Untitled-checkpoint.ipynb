{
 "cells": [
  {
   "cell_type": "code",
   "execution_count": 1,
   "id": "014ef0f4-cd1f-41f3-9e45-9a8906bcc51f",
   "metadata": {},
   "outputs": [],
   "source": [
    "import pandas as pd\n",
    "import matplotlib.pyplot as plt\n",
    "import numpy as np"
   ]
  },
  {
   "cell_type": "code",
   "execution_count": 3,
   "id": "76f2dbe1-1d57-468b-b747-caac0306e90b",
   "metadata": {},
   "outputs": [
    {
     "data": {
      "text/plain": [
       "(31, 3)"
      ]
     },
     "execution_count": 3,
     "metadata": {},
     "output_type": "execute_result"
    }
   ],
   "source": [
    "dados_trees = pd.read_csv('trees.csv')\n",
    "\n",
    "#  Lembrando: o atributo .shape retorna um tipo tuple com o primeiro\n",
    "#elemento sendo a quantidade de linhas e o segundo a quantidade de colunas.\n",
    "dados_trees.shape"
   ]
  },
  {
   "cell_type": "code",
   "execution_count": 4,
   "id": "76d03154-bed5-4cd9-9642-1639c3257a9f",
   "metadata": {},
   "outputs": [
    {
     "data": {
      "text/html": [
       "<div>\n",
       "<style scoped>\n",
       "    .dataframe tbody tr th:only-of-type {\n",
       "        vertical-align: middle;\n",
       "    }\n",
       "\n",
       "    .dataframe tbody tr th {\n",
       "        vertical-align: top;\n",
       "    }\n",
       "\n",
       "    .dataframe thead th {\n",
       "        text-align: right;\n",
       "    }\n",
       "</style>\n",
       "<table border=\"1\" class=\"dataframe\">\n",
       "  <thead>\n",
       "    <tr style=\"text-align: right;\">\n",
       "      <th></th>\n",
       "      <th>Girth</th>\n",
       "      <th>Height</th>\n",
       "      <th>Volume</th>\n",
       "    </tr>\n",
       "  </thead>\n",
       "  <tbody>\n",
       "    <tr>\n",
       "      <th>0</th>\n",
       "      <td>8.3</td>\n",
       "      <td>70</td>\n",
       "      <td>10.3</td>\n",
       "    </tr>\n",
       "    <tr>\n",
       "      <th>1</th>\n",
       "      <td>8.6</td>\n",
       "      <td>65</td>\n",
       "      <td>10.3</td>\n",
       "    </tr>\n",
       "    <tr>\n",
       "      <th>2</th>\n",
       "      <td>8.8</td>\n",
       "      <td>63</td>\n",
       "      <td>10.2</td>\n",
       "    </tr>\n",
       "    <tr>\n",
       "      <th>3</th>\n",
       "      <td>10.5</td>\n",
       "      <td>72</td>\n",
       "      <td>16.4</td>\n",
       "    </tr>\n",
       "    <tr>\n",
       "      <th>4</th>\n",
       "      <td>10.7</td>\n",
       "      <td>81</td>\n",
       "      <td>18.8</td>\n",
       "    </tr>\n",
       "  </tbody>\n",
       "</table>\n",
       "</div>"
      ],
      "text/plain": [
       "   Girth  Height  Volume\n",
       "0    8.3      70    10.3\n",
       "1    8.6      65    10.3\n",
       "2    8.8      63    10.2\n",
       "3   10.5      72    16.4\n",
       "4   10.7      81    18.8"
      ]
     },
     "execution_count": 4,
     "metadata": {},
     "output_type": "execute_result"
    }
   ],
   "source": [
    "# Observando as informações principais\n",
    "dados_trees.head()"
   ]
  },
  {
   "cell_type": "markdown",
   "id": "c655677b-ed05-4906-a875-f0a82e1923d5",
   "metadata": {},
   "source": [
    "Dentre as observações principais nota-se a circunferência das árvores, seu volume e altura."
   ]
  },
  {
   "cell_type": "markdown",
   "id": "fcdd9dc0-32ac-4cbc-adec-a1ab20fc5f89",
   "metadata": {},
   "source": [
    "## Histograma\n",
    "\n",
    " Vamos plotar um histograma utilizando a construção de um array com numpy. Para construir dados de um histograma\n",
    "basta utilizar o método .histogram cujo os argumentos devem ser a coluna dos dados a serem utilizados e a \n",
    "quantidade de divisões que queremos executar, ou seja os bins."
   ]
  },
  {
   "cell_type": "code",
   "execution_count": 7,
   "id": "e7d1ec3a-7c8b-4eec-977e-e2841ddc3f93",
   "metadata": {},
   "outputs": [
    {
     "data": {
      "text/plain": [
       "(array([4, 2, 5, 7, 9, 4]), array([63., 67., 71., 75., 79., 83., 87.]))"
      ]
     },
     "execution_count": 7,
     "metadata": {},
     "output_type": "execute_result"
    }
   ],
   "source": [
    "# Criando um array de dados do histograma para altura\n",
    "height = np.histogram(dados_trees.iloc[:, 1], bins=6)\n",
    "height"
   ]
  },
  {
   "cell_type": "code",
   "execution_count": 9,
   "id": "e71c35b7-7474-4ad2-88bc-a0752155a6d5",
   "metadata": {},
   "outputs": [
    {
     "data": {
      "text/plain": [
       "Text(0.5, 0, 'Altura')"
      ]
     },
     "execution_count": 9,
     "metadata": {},
     "output_type": "execute_result"
    },
    {
     "data": {
      "image/png": "[encoded data removed]",
      "text/plain": [
       "<Figure size 432x288 with 1 Axes>"
      ]
     },
     "metadata": {
      "needs_background": "light"
     },
     "output_type": "display_data"
    }
   ],
   "source": [
    "# Escrevendo o histograma\n",
    "height = np.histogram(dados_trees.iloc[:, 1], bins=6)\n",
    "plt.hist(height, bins=6)\n",
    "plt.title('Histograma Árvores')\n",
    "plt.ylabel('Frequência')\n",
    "plt.xlabel('Altura')"
   ]
  },
  {
   "cell_type": "code",
   "execution_count": null,
   "id": "370e8b39-b777-4e20-966b-cc332f231d93",
   "metadata": {},
   "outputs": [],
   "source": []
  }
 ],
 "metadata": {
  "kernelspec": {
   "display_name": "Python 3 (ipykernel)",
   "language": "python",
   "name": "python3"
  },
  "language_info": {
   "codemirror_mode": {
    "name": "ipython",
    "version": 3
   },
   "file_extension": ".py",
   "mimetype": "text/x-python",
   "name": "python",
   "nbconvert_exporter": "python",
   "pygments_lexer": "ipython3",
   "version": "3.9.7"
  }
 },
 "nbformat": 4,
 "nbformat_minor": 5
}
