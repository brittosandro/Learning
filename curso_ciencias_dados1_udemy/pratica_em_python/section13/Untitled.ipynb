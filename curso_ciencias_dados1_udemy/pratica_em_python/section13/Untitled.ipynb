{
 "cells": [
  {
   "cell_type": "code",
   "execution_count": 2,
   "id": "014ef0f4-cd1f-41f3-9e45-9a8906bcc51f",
   "metadata": {},
   "outputs": [],
   "source": [
    "import pandas as pd\n",
    "import matplotlib.pyplot as plt\n",
    "import numpy as np\n",
    "import seaborn as sns"
   ]
  },
  {
   "cell_type": "code",
   "execution_count": 3,
   "id": "76f2dbe1-1d57-468b-b747-caac0306e90b",
   "metadata": {},
   "outputs": [
    {
     "data": {
      "text/plain": [
       "(31, 3)"
      ]
     },
     "execution_count": 3,
     "metadata": {},
     "output_type": "execute_result"
    }
   ],
   "source": [
    "dados_trees = pd.read_csv('trees.csv')\n",
    "\n",
    "#  Lembrando: o atributo .shape retorna um tipo tuple com o primeiro\n",
    "#elemento sendo a quantidade de linhas e o segundo a quantidade de colunas.\n",
    "dados_trees.shape"
   ]
  },
  {
   "cell_type": "code",
   "execution_count": 4,
   "id": "76d03154-bed5-4cd9-9642-1639c3257a9f",
   "metadata": {},
   "outputs": [
    {
     "data": {
      "text/html": [
       "<div>\n",
       "<style scoped>\n",
       "    .dataframe tbody tr th:only-of-type {\n",
       "        vertical-align: middle;\n",
       "    }\n",
       "\n",
       "    .dataframe tbody tr th {\n",
       "        vertical-align: top;\n",
       "    }\n",
       "\n",
       "    .dataframe thead th {\n",
       "        text-align: right;\n",
       "    }\n",
       "</style>\n",
       "<table border=\"1\" class=\"dataframe\">\n",
       "  <thead>\n",
       "    <tr style=\"text-align: right;\">\n",
       "      <th></th>\n",
       "      <th>Girth</th>\n",
       "      <th>Height</th>\n",
       "      <th>Volume</th>\n",
       "    </tr>\n",
       "  </thead>\n",
       "  <tbody>\n",
       "    <tr>\n",
       "      <th>0</th>\n",
       "      <td>8.3</td>\n",
       "      <td>70</td>\n",
       "      <td>10.3</td>\n",
       "    </tr>\n",
       "    <tr>\n",
       "      <th>1</th>\n",
       "      <td>8.6</td>\n",
       "      <td>65</td>\n",
       "      <td>10.3</td>\n",
       "    </tr>\n",
       "    <tr>\n",
       "      <th>2</th>\n",
       "      <td>8.8</td>\n",
       "      <td>63</td>\n",
       "      <td>10.2</td>\n",
       "    </tr>\n",
       "    <tr>\n",
       "      <th>3</th>\n",
       "      <td>10.5</td>\n",
       "      <td>72</td>\n",
       "      <td>16.4</td>\n",
       "    </tr>\n",
       "    <tr>\n",
       "      <th>4</th>\n",
       "      <td>10.7</td>\n",
       "      <td>81</td>\n",
       "      <td>18.8</td>\n",
       "    </tr>\n",
       "  </tbody>\n",
       "</table>\n",
       "</div>"
      ],
      "text/plain": [
       "   Girth  Height  Volume\n",
       "0    8.3      70    10.3\n",
       "1    8.6      65    10.3\n",
       "2    8.8      63    10.2\n",
       "3   10.5      72    16.4\n",
       "4   10.7      81    18.8"
      ]
     },
     "execution_count": 4,
     "metadata": {},
     "output_type": "execute_result"
    }
   ],
   "source": [
    "# Observando as informações principais\n",
    "dados_trees.head()"
   ]
  },
  {
   "cell_type": "markdown",
   "id": "c655677b-ed05-4906-a875-f0a82e1923d5",
   "metadata": {},
   "source": [
    "Dentre as observações principais nota-se a circunferência das árvores, seu volume e altura."
   ]
  },
  {
   "cell_type": "markdown",
   "id": "fcdd9dc0-32ac-4cbc-adec-a1ab20fc5f89",
   "metadata": {},
   "source": [
    "## Histograma\n",
    "\n",
    " Vamos plotar um histograma utilizando a construção de um array com numpy. Para construir dados de um histograma\n",
    "basta utilizar o método .histogram cujo os argumentos devem ser a coluna dos dados a serem utilizados e a \n",
    "quantidade de divisões que queremos executar, ou seja os bins."
   ]
  },
  {
   "cell_type": "code",
   "execution_count": 5,
   "id": "e7d1ec3a-7c8b-4eec-977e-e2841ddc3f93",
   "metadata": {},
   "outputs": [
    {
     "data": {
      "text/plain": [
       "(array([4, 2, 5, 7, 9, 4]), array([63., 67., 71., 75., 79., 83., 87.]))"
      ]
     },
     "execution_count": 5,
     "metadata": {},
     "output_type": "execute_result"
    }
   ],
   "source": [
    "# Criando um array de dados do histograma para altura\n",
    "height = np.histogram(dados_trees.iloc[:, 1], bins=6)\n",
    "height"
   ]
  },
  {
   "cell_type": "code",
   "execution_count": 6,
   "id": "e71c35b7-7474-4ad2-88bc-a0752155a6d5",
   "metadata": {},
   "outputs": [
    {
     "data": {
      "text/plain": [
       "Text(0.5, 0, 'Altura')"
      ]
     },
     "execution_count": 6,
     "metadata": {},
     "output_type": "execute_result"
    },
    {
     "data": {
      "image/png": "[encoded data removed]",
      "text/plain": [
       "<Figure size 432x288 with 1 Axes>"
      ]
     },
     "metadata": {
      "needs_background": "light"
     },
     "output_type": "display_data"
    }
   ],
   "source": [
    "# Escrevendo o histograma\n",
    "plt.hist(dados_trees.iloc[:, 1], bins=6)\n",
    "plt.title('Histograma Árvores')\n",
    "plt.ylabel('Frequência')\n",
    "plt.xlabel('Altura')"
   ]
  },
  {
   "cell_type": "code",
   "execution_count": 7,
   "id": "370e8b39-b777-4e20-966b-cc332f231d93",
   "metadata": {},
   "outputs": [
    {
     "data": {
      "text/plain": [
       "Text(0.5, 0, 'Altura')"
      ]
     },
     "execution_count": 7,
     "metadata": {},
     "output_type": "execute_result"
    },
    {
     "data": {
      "image/png": "[encoded data removed]",
      "text/plain": [
       "<Figure size 432x288 with 1 Axes>"
      ]
     },
     "metadata": {
      "needs_background": "light"
     },
     "output_type": "display_data"
    }
   ],
   "source": [
    "plt.hist(dados_trees.iloc[:, 1], bins=10)\n",
    "plt.title('Histograma Árvores')\n",
    "plt.ylabel('Frequência')\n",
    "plt.xlabel('Altura')"
   ]
  },
  {
   "cell_type": "code",
   "execution_count": 8,
   "id": "0a4a8a17-c32e-4d24-8261-e005fa30eaea",
   "metadata": {},
   "outputs": [
    {
     "data": {
      "text/plain": [
       "Text(0.5, 0, 'Altura')"
      ]
     },
     "execution_count": 8,
     "metadata": {},
     "output_type": "execute_result"
    },
    {
     "data": {
      "image/png": "[encoded data removed]",
      "text/plain": [
       "<Figure size 432x288 with 1 Axes>"
      ]
     },
     "metadata": {
      "needs_background": "light"
     },
     "output_type": "display_data"
    }
   ],
   "source": [
    "plt.hist(dados_trees.iloc[:, 1], bins=20)\n",
    "plt.title('Histograma Árvores')\n",
    "plt.ylabel('Frequência')\n",
    "plt.xlabel('Altura')"
   ]
  },
  {
   "cell_type": "markdown",
   "id": "d18beef6-baad-4588-be46-4bec92362be9",
   "metadata": {},
   "source": [
    "Note como os primeiros dois gráficos apresentam subdivisões contínuas, ou seja, a quantidade de bins do último gráfico\n",
    "parece não ser tão adequada para uma proposta de histograma."
   ]
  },
  {
   "cell_type": "markdown",
   "id": "7ee4502a-f861-4aee-a999-7dbedf7ad803",
   "metadata": {},
   "source": [
    "## Gráfico de Densidade\n",
    "\n",
    "  Neste ponto vamos apenas construir um gráfico de densidade sobre o gráfico de barras apresentado\n",
    "acima utilizando a biblioteca seaborn.    "
   ]
  },
  {
   "cell_type": "code",
   "execution_count": 9,
   "id": "3ffb90fa-0e40-43ce-97bc-cd8e14a966b2",
   "metadata": {},
   "outputs": [
    {
     "data": {
      "text/plain": [
       "[Text(0.5, 1.0, 'Árvores')]"
      ]
     },
     "execution_count": 9,
     "metadata": {},
     "output_type": "execute_result"
    },
    {
     "data": {
      "image/png": "[encoded data removed]",
      "text/plain": [
       "<Figure size 432x288 with 1 Axes>"
      ]
     },
     "metadata": {
      "needs_background": "light"
     },
     "output_type": "display_data"
    }
   ],
   "source": [
    "# gerando histograma com seaborn\n",
    "sns.histplot(dados_trees.iloc[:, 1], bins=6, kde=False, color='blue').set(title='Árvores')"
   ]
  },
  {
   "cell_type": "markdown",
   "id": "0dda0189-de7a-451e-80ca-056ac75305a8",
   "metadata": {},
   "source": [
    "Observamos que a apresentação do gráfico é mais agradável."
   ]
  },
  {
   "cell_type": "code",
   "execution_count": 10,
   "id": "1119abbc-0631-4077-a62a-db9ddb543774",
   "metadata": {},
   "outputs": [
    {
     "data": {
      "text/plain": [
       "[Text(0.5, 1.0, 'Árvores')]"
      ]
     },
     "execution_count": 10,
     "metadata": {},
     "output_type": "execute_result"
    },
    {
     "data": {
      "image/png": "[encoded data removed]",
      "text/plain": [
       "<Figure size 432x288 with 1 Axes>"
      ]
     },
     "metadata": {
      "needs_background": "light"
     },
     "output_type": "display_data"
    }
   ],
   "source": [
    "sns.kdeplot(dados_trees.iloc[:, 1], color='blue').set(title='Árvores')"
   ]
  },
  {
   "cell_type": "code",
   "execution_count": 11,
   "id": "854314ae-f25e-4297-a06f-f148d6f0b4f8",
   "metadata": {},
   "outputs": [
    {
     "data": {
      "text/plain": [
       "[Text(0.5, 1.0, 'Árvores')]"
      ]
     },
     "execution_count": 11,
     "metadata": {},
     "output_type": "execute_result"
    },
    {
     "data": {
      "image/png": "[encoded data removed]",
      "text/plain": [
       "<Figure size 432x288 with 1 Axes>"
      ]
     },
     "metadata": {
      "needs_background": "light"
     },
     "output_type": "display_data"
    }
   ],
   "source": [
    "sns.histplot(dados_trees.iloc[:, 1], bins=6, kde=True, color='blue').set(title='Árvores')"
   ]
  },
  {
   "cell_type": "markdown",
   "id": "b4c5f46f-35d5-4426-a870-fd9e8973ef2e",
   "metadata": {},
   "source": [
    "No histograma escrito acima percebemos uma linha de densidade."
   ]
  },
  {
   "cell_type": "markdown",
   "id": "6b5c2bce-714c-4e30-b6e3-a59acd9e74ec",
   "metadata": {},
   "source": [
    "## Gráfico de Dispersão\n",
    "\n",
    "Agora vamos escrever um gráfico de dispersão, buscando denotar as relações existentes nos dados\n",
    "de árvores."
   ]
  },
  {
   "cell_type": "code",
   "execution_count": 12,
   "id": "885be858-cee4-4cf1-a802-4da2e1fe24ae",
   "metadata": {},
   "outputs": [
    {
     "data": {
      "text/plain": [
       "Text(0, 0.5, 'Volume')"
      ]
     },
     "execution_count": 12,
     "metadata": {},
     "output_type": "execute_result"
    },
    {
     "data": {
      "image/png": "[encoded data removed]",
      "text/plain": [
       "<Figure size 432x288 with 1 Axes>"
      ]
     },
     "metadata": {
      "needs_background": "light"
     },
     "output_type": "display_data"
    }
   ],
   "source": [
    "plt.scatter(x=dados_trees.Girth, y=dados_trees.Volume, color='blue', facecolors='none', marker='*')\n",
    "plt.title('Árvore')\n",
    "plt.xlabel('Circunferência')\n",
    "plt.ylabel('Volume')"
   ]
  },
  {
   "cell_type": "markdown",
   "id": "0eace666-f7c5-4a91-8886-291736cda3f0",
   "metadata": {},
   "source": [
    "Note que, pela observação do gráfico de dispersão fica claro a ideia de que se aumentarmos \n",
    "a cirncunferência da árvore aumentaremos o volume também, afinal de contas desde o ensino básico\n",
    "sabemos que circunferência está diretamente ligada ao raio, logo: quanto maior o raio, maior a \n",
    "circunferência.\n",
    "\n",
    "Abaixo vamos gerar um gráfico de dispersão utilizando o Seaborn."
   ]
  },
  {
   "cell_type": "code",
   "execution_count": 17,
   "id": "cf9ea5f4-d057-4e4f-b535-8502dbe3bbd9",
   "metadata": {},
   "outputs": [
    {
     "data": {
      "text/plain": [
       "<AxesSubplot:xlabel='Girth', ylabel='Volume'>"
      ]
     },
     "execution_count": 17,
     "metadata": {},
     "output_type": "execute_result"
    },
    {
     "data": {
      "image/png": "[encoded data removed]",
      "text/plain": [
       "<Figure size 432x288 with 1 Axes>"
      ]
     },
     "metadata": {
      "needs_background": "light"
     },
     "output_type": "display_data"
    }
   ],
   "source": [
    "sns.regplot(x=dados_trees.Girth, y=dados_trees.Volume, data=dados_trees, x_jitter=0.3, fit_reg=False)"
   ]
  },
  {
   "cell_type": "markdown",
   "id": "b0cdbf2f-990b-4d9d-aa97-cb38b80ebbf6",
   "metadata": {},
   "source": [
    "## Gráficos de Boxplot\n",
    "\n",
    "Agora vamos produzir gráfico de Boxplot para nossos dados."
   ]
  },
  {
   "cell_type": "code",
   "execution_count": 20,
   "id": "a32c5a52-7c2b-440a-9b4b-cb20f4ae2853",
   "metadata": {},
   "outputs": [
    {
     "data": {
      "text/plain": [
       "Text(0.5, 0, 'Volume')"
      ]
     },
     "execution_count": 20,
     "metadata": {},
     "output_type": "execute_result"
    },
    {
     "data": {
      "image/png": "[encoded data removed]",
      "text/plain": [
       "<Figure size 432x288 with 1 Axes>"
      ]
     },
     "metadata": {
      "needs_background": "light"
     },
     "output_type": "display_data"
    }
   ],
   "source": [
    "plt.boxplot(dados_trees.Volume, vert=False, showfliers=False, notch=True, patch_artist=True)\n",
    "plt.title('árvores')\n",
    "plt.xlabel('Volume')"
   ]
  },
  {
   "cell_type": "code",
   "execution_count": 21,
   "id": "c0de4ef9-7c93-4f5c-a2bb-4a6441f12c3a",
   "metadata": {},
   "outputs": [
    {
     "data": {
      "text/plain": [
       "Text(0.5, 0, 'Volume')"
      ]
     },
     "execution_count": 21,
     "metadata": {},
     "output_type": "execute_result"
    },
    {
     "data": {
      "image/png": "[encoded data removed]",
      "text/plain": [
       "<Figure size 432x288 with 1 Axes>"
      ]
     },
     "metadata": {
      "needs_background": "light"
     },
     "output_type": "display_data"
    }
   ],
   "source": [
    "plt.boxplot(dados_trees.Volume, vert=True, showfliers=False, notch=True, patch_artist=True)\n",
    "plt.title('árvores')\n",
    "plt.xlabel('Volume')"
   ]
  },
  {
   "cell_type": "code",
   "execution_count": 22,
   "id": "b02d6487-139f-42cd-8849-0eb99177e02b",
   "metadata": {},
   "outputs": [
    {
     "data": {
      "text/plain": [
       "Text(0.5, 0, 'Volume')"
      ]
     },
     "execution_count": 22,
     "metadata": {},
     "output_type": "execute_result"
    },
    {
     "data": {
      "image/png": "[encoded data removed]",
      "text/plain": [
       "<Figure size 432x288 with 1 Axes>"
      ]
     },
     "metadata": {
      "needs_background": "light"
     },
     "output_type": "display_data"
    }
   ],
   "source": [
    "plt.boxplot(dados_trees.Volume, vert=False, showfliers=True, notch=True, patch_artist=True)\n",
    "plt.title('árvores')\n",
    "plt.xlabel('Volume')"
   ]
  },
  {
   "cell_type": "code",
   "execution_count": 24,
   "id": "64259275-f5b0-4f41-a530-4336e3d5d62f",
   "metadata": {},
   "outputs": [
    {
     "data": {
      "text/plain": [
       "Text(0.5, 0, 'Volume')"
      ]
     },
     "execution_count": 24,
     "metadata": {},
     "output_type": "execute_result"
    },
    {
     "data": {
      "image/png": "[encoded data removed]",
      "text/plain": [
       "<Figure size 432x288 with 1 Axes>"
      ]
     },
     "metadata": {
      "needs_background": "light"
     },
     "output_type": "display_data"
    }
   ],
   "source": [
    "plt.boxplot(dados_trees.Volume, vert=True, showfliers=True, notch=True, patch_artist=True)\n",
    "plt.title('árvores')\n",
    "plt.xlabel('Volume')"
   ]
  },
  {
   "cell_type": "code",
   "execution_count": 25,
   "id": "09730429-5932-4235-a868-6bc56ac4adfa",
   "metadata": {},
   "outputs": [
    {
     "data": {
      "text/plain": [
       "Text(0.5, 0, 'Volume')"
      ]
     },
     "execution_count": 25,
     "metadata": {},
     "output_type": "execute_result"
    },
    {
     "data": {
      "image/png": "[encoded data removed]",
      "text/plain": [
       "<Figure size 432x288 with 1 Axes>"
      ]
     },
     "metadata": {
      "needs_background": "light"
     },
     "output_type": "display_data"
    }
   ],
   "source": [
    "plt.boxplot(dados_trees.Volume, vert=True, showfliers=True, notch=False, patch_artist=True)\n",
    "plt.title('árvores')\n",
    "plt.xlabel('Volume')"
   ]
  },
  {
   "cell_type": "markdown",
   "id": "1d2d86be-c637-4a27-8051-40b891b99627",
   "metadata": {},
   "source": [
    "Note que geramos um conjunto de possibilidades de gráficos de barras com o matplotlib modificando \n",
    "apenas as variáveis booleanas."
   ]
  },
  {
   "cell_type": "code",
   "execution_count": 27,
   "id": "c5563138-a4f9-4f7a-b0c6-900c820e271c",
   "metadata": {},
   "outputs": [
    {
     "data": {
      "text/plain": [
       "Text(0.5, 0, 'Dados')"
      ]
     },
     "execution_count": 27,
     "metadata": {},
     "output_type": "execute_result"
    },
    {
     "data": {
      "image/png": "[encoded data removed]",
      "text/plain": [
       "<Figure size 432x288 with 1 Axes>"
      ]
     },
     "metadata": {
      "needs_background": "light"
     },
     "output_type": "display_data"
    }
   ],
   "source": [
    "plt.boxplot(dados_trees)\n",
    "plt.title('Árvores')\n",
    "plt.xlabel('Dados')"
   ]
  },
  {
   "cell_type": "markdown",
   "id": "158507b8-5318-4640-ba31-7c99a9b2518a",
   "metadata": {},
   "source": [
    "Para o gráfico acima produzimos os boxplots de todos os casos possíveis."
   ]
  },
  {
   "cell_type": "code",
   "execution_count": 29,
   "id": "a40fc678-e8b4-47d3-855f-044b6c5029ed",
   "metadata": {},
   "outputs": [
    {
     "data": {
      "text/plain": [
       "Text(0.5, 0, 'Dados')"
      ]
     },
     "execution_count": 29,
     "metadata": {},
     "output_type": "execute_result"
    },
    {
     "data": {
      "image/png": "[encoded data removed]",
      "text/plain": [
       "<Figure size 432x288 with 1 Axes>"
      ]
     },
     "metadata": {
      "needs_background": "light"
     },
     "output_type": "display_data"
    }
   ],
   "source": [
    "plt.boxplot(dados_trees.Volume, vert=False)\n",
    "plt.boxplot(dados_trees.Girth, vert=False)\n",
    "plt.boxplot(dados_trees.Height, vert=False)\n",
    "plt.title('árvores')\n",
    "plt.xlabel('Dados')"
   ]
  },
  {
   "cell_type": "code",
   "execution_count": 30,
   "id": "0d0039e2-afb1-4baa-a539-f10f14cb5e51",
   "metadata": {},
   "outputs": [
    {
     "data": {
      "text/plain": [
       "Text(0.5, 1.0, 'Árvores')"
      ]
     },
     "execution_count": 30,
     "metadata": {},
     "output_type": "execute_result"
    },
    {
     "data": {
      "image/png": "[encoded data removed]",
      "text/plain": [
       "<Figure size 432x288 with 1 Axes>"
      ]
     },
     "metadata": {
      "needs_background": "light"
     },
     "output_type": "display_data"
    }
   ],
   "source": [
    "sns.boxplot(dados_trees.Volume, orient='v').set_title('Árvores')"
   ]
  },
  {
   "cell_type": "code",
   "execution_count": 32,
   "id": "de00a99b-b55a-4d15-a86f-a4bb9ddf917d",
   "metadata": {},
   "outputs": [
    {
     "data": {
      "text/plain": [
       "Text(0.5, 1.0, 'Árvores')"
      ]
     },
     "execution_count": 32,
     "metadata": {},
     "output_type": "execute_result"
    },
    {
     "data": {
      "image/png": "[encoded data removed]",
      "text/plain": [
       "<Figure size 432x288 with 1 Axes>"
      ]
     },
     "metadata": {
      "needs_background": "light"
     },
     "output_type": "display_data"
    }
   ],
   "source": [
    "sns.boxplot(dados_trees.Volume, orient='h').set_title('Árvores')"
   ]
  },
  {
   "cell_type": "code",
   "execution_count": 33,
   "id": "e15781e4-6fbd-4c75-ad5d-1f5473be8783",
   "metadata": {},
   "outputs": [
    {
     "data": {
      "text/plain": [
       "<AxesSubplot:>"
      ]
     },
     "execution_count": 33,
     "metadata": {},
     "output_type": "execute_result"
    },
    {
     "data": {
      "image/png": "[encoded data removed]",
      "text/plain": [
       "<Figure size 432x288 with 1 Axes>"
      ]
     },
     "metadata": {
      "needs_background": "light"
     },
     "output_type": "display_data"
    }
   ],
   "source": [
    "sns.boxplot(data=dados_trees)"
   ]
  },
  {
   "cell_type": "markdown",
   "id": "3aa295d3-d4c1-41d3-98d7-f4e48226d51c",
   "metadata": {},
   "source": [
    "Podemos perceber clararmente que os gráficos gerados com seaborn são bem mais elegantes que os\n",
    "mesmos gerados no matplotlib."
   ]
  },
  {
   "cell_type": "code",
   "execution_count": null,
   "id": "d547d4d7-e5bc-44e9-b9c8-fc7aa3d31a02",
   "metadata": {},
   "outputs": [],
   "source": []
  }
 ],
 "metadata": {
  "kernelspec": {
   "display_name": "Python 3 (ipykernel)",
   "language": "python",
   "name": "python3"
  },
  "language_info": {
   "codemirror_mode": {
    "name": "ipython",
    "version": 3
   },
   "file_extension": ".py",
   "mimetype": "text/x-python",
   "name": "python",
   "nbconvert_exporter": "python",
   "pygments_lexer": "ipython3",
   "version": "3.9.7"
  }
 },
 "nbformat": 4,
 "nbformat_minor": 5
}
