{
 "cells": [
  {
   "cell_type": "markdown",
   "id": "910976a5-91b5-4a19-af0f-2e4208833c6e",
   "metadata": {},
   "source": [
    "# Exercícios da Seção 10"
   ]
  },
  {
   "cell_type": "markdown",
   "id": "695352af-ba26-44d1-a759-b86fb12a8c35",
   "metadata": {},
   "source": [
    "1) Para resolvermos o exercícios deveremos considerar o arquivo tempo.csv. Neste arquivo teremos um conjunto de variáveis. Tais variáveis serão listadas abaixo com suas características, ou seja,\n",
    "seus domínios.\n",
    "\n",
    "- Aparência. Cujo domínio é: sol, chuvam, nublado.\n",
    "- Temperatura. Cujo domínio é: -130 e 130 °F.\n",
    "- Umidade: Cujo domínio é: 0 e 100.\n",
    "- Vendo: Cujo domínio é: Verdadeiro ou Falso.\n",
    "- Jogar: Cujo domínio é: sim ou não.\n",
    "\n",
    " No exercício devemos verificar se os domínios estão de fato corretos e se existem valores faltantes (NAs) para cada variável de nosso problema. Assim devemos tratar todas as situações\n",
    "possíveis."
   ]
  },
  {
   "cell_type": "code",
   "execution_count": 2,
   "id": "5c1ddcac-7878-4c06-95bf-5456293d5699",
   "metadata": {},
   "outputs": [],
   "source": [
    "import pandas as pd\n",
    "import seaborn as sns\n",
    "import statistics as sts"
   ]
  },
  {
   "cell_type": "code",
   "execution_count": 3,
   "id": "b864fea0-7e5c-4b4a-b8b7-c0f253e5ee5c",
   "metadata": {},
   "outputs": [
    {
     "name": "stdout",
     "output_type": "stream",
     "text": [
      "<class 'pandas.core.frame.DataFrame'>\n",
      "RangeIndex: 14 entries, 0 to 13\n",
      "Data columns (total 5 columns):\n",
      " #   Column       Non-Null Count  Dtype  \n",
      "---  ------       --------------  -----  \n",
      " 0   Aparencia    14 non-null     object \n",
      " 1   Temperatura  14 non-null     int64  \n",
      " 2   Umidade      13 non-null     float64\n",
      " 3   Vento        13 non-null     object \n",
      " 4   Jogar        14 non-null     object \n",
      "dtypes: float64(1), int64(1), object(3)\n",
      "memory usage: 688.0+ bytes\n"
     ]
    }
   ],
   "source": [
    "# carregando dados do arquivos \n",
    "dataset = pd.read_csv('tempo.csv', sep=';')\n",
    "dataset.info()"
   ]
  },
  {
   "cell_type": "code",
   "execution_count": 4,
   "id": "e6fdaa67-5bbe-40b9-b3e2-9140add90aa0",
   "metadata": {},
   "outputs": [
    {
     "data": {
      "text/html": [
       "<div>\n",
       "<style scoped>\n",
       "    .dataframe tbody tr th:only-of-type {\n",
       "        vertical-align: middle;\n",
       "    }\n",
       "\n",
       "    .dataframe tbody tr th {\n",
       "        vertical-align: top;\n",
       "    }\n",
       "\n",
       "    .dataframe thead th {\n",
       "        text-align: right;\n",
       "    }\n",
       "</style>\n",
       "<table border=\"1\" class=\"dataframe\">\n",
       "  <thead>\n",
       "    <tr style=\"text-align: right;\">\n",
       "      <th></th>\n",
       "      <th>Aparencia</th>\n",
       "      <th>Temperatura</th>\n",
       "      <th>Umidade</th>\n",
       "      <th>Vento</th>\n",
       "      <th>Jogar</th>\n",
       "    </tr>\n",
       "  </thead>\n",
       "  <tbody>\n",
       "    <tr>\n",
       "      <th>0</th>\n",
       "      <td>sol</td>\n",
       "      <td>85</td>\n",
       "      <td>85.0</td>\n",
       "      <td>FALSO</td>\n",
       "      <td>nao</td>\n",
       "    </tr>\n",
       "    <tr>\n",
       "      <th>1</th>\n",
       "      <td>sol</td>\n",
       "      <td>80</td>\n",
       "      <td>90.0</td>\n",
       "      <td>VERDADEIRO</td>\n",
       "      <td>nao</td>\n",
       "    </tr>\n",
       "    <tr>\n",
       "      <th>2</th>\n",
       "      <td>nublado</td>\n",
       "      <td>83</td>\n",
       "      <td>86.0</td>\n",
       "      <td>FALSO</td>\n",
       "      <td>sim</td>\n",
       "    </tr>\n",
       "    <tr>\n",
       "      <th>3</th>\n",
       "      <td>chuva</td>\n",
       "      <td>70</td>\n",
       "      <td>NaN</td>\n",
       "      <td>FALSO</td>\n",
       "      <td>sim</td>\n",
       "    </tr>\n",
       "    <tr>\n",
       "      <th>4</th>\n",
       "      <td>chuva</td>\n",
       "      <td>68</td>\n",
       "      <td>80.0</td>\n",
       "      <td>FALSO</td>\n",
       "      <td>sim</td>\n",
       "    </tr>\n",
       "  </tbody>\n",
       "</table>\n",
       "</div>"
      ],
      "text/plain": [
       "  Aparencia  Temperatura  Umidade       Vento Jogar\n",
       "0       sol           85     85.0       FALSO   nao\n",
       "1       sol           80     90.0  VERDADEIRO   nao\n",
       "2   nublado           83     86.0       FALSO   sim\n",
       "3     chuva           70      NaN       FALSO   sim\n",
       "4     chuva           68     80.0       FALSO   sim"
      ]
     },
     "execution_count": 4,
     "metadata": {},
     "output_type": "execute_result"
    }
   ],
   "source": [
    "dataset.head()"
   ]
  },
  {
   "cell_type": "code",
   "execution_count": 5,
   "id": "9f598b2a-93d3-430f-b07f-e90833414924",
   "metadata": {},
   "outputs": [
    {
     "name": "stdout",
     "output_type": "stream",
     "text": [
      "n° Linhas 14 | n° Colunas 5\n"
     ]
    }
   ],
   "source": [
    "# o método shape vai mostrar a quantidade de linhas e colunas em uma tupla\n",
    "quant_linhas = dataset.shape[0]\n",
    "quant_colunas = dataset.shape[1]\n",
    "print(f'n° Linhas {quant_linhas} | n° Colunas {quant_colunas}')"
   ]
  },
  {
   "cell_type": "markdown",
   "id": "1be1db27-db18-4950-a700-bb92c24f44aa",
   "metadata": {},
   "source": [
    "Como era esperado temos 5 colunas que correspondem as nossas variáveis de interrese, aparência,\n",
    "temperatura, umidade e jogar."
   ]
  },
  {
   "cell_type": "markdown",
   "id": "0921dfba-f51a-4d1d-baeb-d01ca676965d",
   "metadata": {},
   "source": [
    "## Análise Exploratória dos dados\n",
    "\n",
    "Agora vamos iniciar de fato nossa análise exploratória dos dados. Vamos verificar as propriedades\n",
    "dos dados. Buscaremos entender se esses dados estão dentro de um certo domínio e se não existem \n",
    "valores faltantes [NAs].\n",
    "\n",
    "#### Etapa 1\n",
    "\n",
    "Temos três variáveis categóricas: Aparência, Vento e Jogar. Vamos explorar cada uma dessas caterorias. \n"
   ]
  },
  {
   "cell_type": "markdown",
   "id": "689d1929-cbda-4c11-9afd-02c9e0b29c32",
   "metadata": {},
   "source": [
    "- **Análise da categoria Aparências**"
   ]
  },
  {
   "cell_type": "code",
   "execution_count": 6,
   "id": "bd3d931c-22f8-4cc9-b290-66a715e9b246",
   "metadata": {},
   "outputs": [
    {
     "data": {
      "text/plain": [
       "Aparencia\n",
       "chuva      5\n",
       "menos      1\n",
       "nublado    3\n",
       "sol        5\n",
       "dtype: int64"
      ]
     },
     "execution_count": 6,
     "metadata": {},
     "output_type": "execute_result"
    }
   ],
   "source": [
    "# verificando o grupo ou conjunto Aparencia\n",
    "dataset.groupby(dataset['Aparencia']).size()"
   ]
  },
  {
   "cell_type": "markdown",
   "id": "5d59f2c0-25d2-46f0-a554-887973efa97d",
   "metadata": {},
   "source": [
    "Note como existe um atributo que não pertence ao domínio, pois menos não deve fazer parte do \n",
    "conjunto aparência."
   ]
  },
  {
   "cell_type": "code",
   "execution_count": 7,
   "id": "76012401-686d-483e-9e98-da55156bfce7",
   "metadata": {},
   "outputs": [
    {
     "data": {
      "text/plain": [
       "Text(0.5, 1.0, 'Aparência')"
      ]
     },
     "execution_count": 7,
     "metadata": {},
     "output_type": "execute_result"
    },
    {
     "data": {
      "image/png": "[encoded data removed]",
      "text/plain": [
       "<Figure size 432x288 with 1 Axes>"
      ]
     },
     "metadata": {
      "needs_background": "light"
     },
     "output_type": "display_data"
    }
   ],
   "source": [
    "# verificando um gráfico de barras\n",
    "sns.histplot(dataset['Aparencia']).set_title('Aparência')"
   ]
  },
  {
   "cell_type": "markdown",
   "id": "4d72eaf3-ab7a-4f84-a0a7-7e12e5d31ea1",
   "metadata": {},
   "source": [
    "\n",
    "Vamos verificar se existem valores não disponíveis para Aparência."
   ]
  },
  {
   "cell_type": "code",
   "execution_count": 8,
   "id": "160452b5-d112-4feb-bbba-3ae46f82aeb4",
   "metadata": {},
   "outputs": [
    {
     "data": {
      "text/plain": [
       "Aparencia      0\n",
       "Temperatura    0\n",
       "Umidade        1\n",
       "Vento          1\n",
       "Jogar          0\n",
       "dtype: int64"
      ]
     },
     "execution_count": 8,
     "metadata": {},
     "output_type": "execute_result"
    }
   ],
   "source": [
    "dataset.isnull().sum()"
   ]
  },
  {
   "cell_type": "markdown",
   "id": "64ae40df-1773-47f2-986f-8f3c73a3c443",
   "metadata": {},
   "source": [
    "\n",
    "Podemos perceber que a variável aparência não conta com nenhum valor NA."
   ]
  },
  {
   "cell_type": "markdown",
   "id": "e9dc13c6-8ced-470b-b62f-cc24b2d5b138",
   "metadata": {},
   "source": [
    "- **Análise da categoria Vento**"
   ]
  },
  {
   "cell_type": "code",
   "execution_count": 9,
   "id": "b6671c57-f8be-440f-9848-f0dd824be217",
   "metadata": {},
   "outputs": [
    {
     "data": {
      "text/plain": [
       "Vento\n",
       "FALSO         7\n",
       "VERDADEIRO    6\n",
       "dtype: int64"
      ]
     },
     "execution_count": 9,
     "metadata": {},
     "output_type": "execute_result"
    }
   ],
   "source": [
    "dataset.groupby(dataset['Vento']).size()"
   ]
  },
  {
   "cell_type": "markdown",
   "id": "a19f0f64-76fb-4a34-b1e4-eb2ef7d21052",
   "metadata": {},
   "source": [
    "Notamos que os dados estão dentro do domínio de interesse."
   ]
  },
  {
   "cell_type": "code",
   "execution_count": 10,
   "id": "fdcaa708-0786-4726-84ca-5996789aa464",
   "metadata": {},
   "outputs": [
    {
     "data": {
      "text/plain": [
       "Text(0.5, 1.0, 'Vento')"
      ]
     },
     "execution_count": 10,
     "metadata": {},
     "output_type": "execute_result"
    },
    {
     "data": {
      "image/png": "[encoded data removed]",
      "text/plain": [
       "<Figure size 432x288 with 1 Axes>"
      ]
     },
     "metadata": {
      "needs_background": "light"
     },
     "output_type": "display_data"
    }
   ],
   "source": [
    "sns.histplot(dataset['Vento']).set_title('Vento')"
   ]
  },
  {
   "cell_type": "code",
   "execution_count": 11,
   "id": "01408a93-0693-4e12-bb9d-fd477ec6238c",
   "metadata": {},
   "outputs": [
    {
     "name": "stdout",
     "output_type": "stream",
     "text": [
      "N° de NAs para Vento = 1\n"
     ]
    }
   ],
   "source": [
    "valor_Na_vento = dataset['Vento'].isnull().sum()\n",
    "print(f'N° de NAs para Vento = {valor_Na_vento}')"
   ]
  },
  {
   "cell_type": "markdown",
   "id": "680049d7-f4f9-4fa0-beb8-59322f155645",
   "metadata": {},
   "source": [
    "Embora os atributos estejam dentro do domínio do problema deveremos tratar o valor faltante."
   ]
  },
  {
   "cell_type": "markdown",
   "id": "e52fc18c-fbb6-4351-88a1-ab14bb55782a",
   "metadata": {},
   "source": [
    "- **Análise da categoria Jogar**"
   ]
  },
  {
   "cell_type": "code",
   "execution_count": 12,
   "id": "ca93c981-b10d-4956-982e-e4c9e63248ad",
   "metadata": {},
   "outputs": [
    {
     "data": {
      "text/plain": [
       "Jogar\n",
       "nao    5\n",
       "sim    9\n",
       "dtype: int64"
      ]
     },
     "execution_count": 12,
     "metadata": {},
     "output_type": "execute_result"
    }
   ],
   "source": [
    "dataset.groupby(dataset['Jogar']).size()"
   ]
  },
  {
   "cell_type": "markdown",
   "id": "aaa302f0-fe6b-4804-85da-08615ea1b2b4",
   "metadata": {},
   "source": [
    "Todos os dados estão dentro do domínio do problema."
   ]
  },
  {
   "cell_type": "code",
   "execution_count": 13,
   "id": "aa999514-6c2d-4539-89e2-17bcf48c0b7d",
   "metadata": {},
   "outputs": [
    {
     "data": {
      "text/plain": [
       "Text(0.5, 1.0, 'Jogar')"
      ]
     },
     "execution_count": 13,
     "metadata": {},
     "output_type": "execute_result"
    },
    {
     "data": {
      "image/png": "[encoded data removed]",
      "text/plain": [
       "<Figure size 432x288 with 1 Axes>"
      ]
     },
     "metadata": {
      "needs_background": "light"
     },
     "output_type": "display_data"
    }
   ],
   "source": [
    "sns.histplot(dataset['Jogar']).set_title('Jogar')"
   ]
  },
  {
   "cell_type": "code",
   "execution_count": 14,
   "id": "88788398-c5f4-46ec-9a63-4d985b5b6e5d",
   "metadata": {},
   "outputs": [
    {
     "data": {
      "text/plain": [
       "0"
      ]
     },
     "execution_count": 14,
     "metadata": {},
     "output_type": "execute_result"
    }
   ],
   "source": [
    "dataset['Jogar'].isnull().sum()"
   ]
  },
  {
   "cell_type": "markdown",
   "id": "7e3b60b3-58bf-44d8-bb6c-783206fe557d",
   "metadata": {},
   "source": [
    "#### Etapa 2\n",
    "\n",
    "Agora vamos analisar as duas variáveis númericas que são elas: Temperatura e umidade.\n",
    "\n",
    "- **Análise da variável numérica Temperatura**\n",
    "\n",
    "Como temperatura é um dado numérico poderemos ver a estatística de seus resultados.\n"
   ]
  },
  {
   "cell_type": "code",
   "execution_count": 15,
   "id": "e04f137a-8bb1-443d-a206-c55390835363",
   "metadata": {},
   "outputs": [
    {
     "data": {
      "text/plain": [
       "count      14.000000\n",
       "mean      155.571429\n",
       "std       306.433759\n",
       "min        64.000000\n",
       "25%        69.250000\n",
       "50%        73.500000\n",
       "75%        80.750000\n",
       "max      1220.000000\n",
       "Name: Temperatura, dtype: float64"
      ]
     },
     "execution_count": 15,
     "metadata": {},
     "output_type": "execute_result"
    }
   ],
   "source": [
    "# Descrevendo os dados da temperatura.\n",
    "dataset['Temperatura'].describe()"
   ]
  },
  {
   "cell_type": "markdown",
   "id": "959b20d3-7464-4df1-94fd-317b6f791830",
   "metadata": {},
   "source": [
    "O primeiro fato que chama a atenção é o valor máximo da temperatura ser muito acima do domínio do \n",
    "problema que é 130 ° F. O valor da média (155.571429) é também muito diferente do valor estabelecido\n",
    "pela mediana (73.50), existem valores que estão distorcendo os dados e devem ser tratados."
   ]
  },
  {
   "cell_type": "code",
   "execution_count": 16,
   "id": "874a051c-9c61-4907-ade7-787f1df287e2",
   "metadata": {},
   "outputs": [
    {
     "data": {
      "text/plain": [
       "Text(0.5, 1.0, 'Temperatura')"
      ]
     },
     "execution_count": 16,
     "metadata": {},
     "output_type": "execute_result"
    },
    {
     "data": {
      "image/png": "[encoded data removed]",
      "text/plain": [
       "<Figure size 432x288 with 1 Axes>"
      ]
     },
     "metadata": {
      "needs_background": "light"
     },
     "output_type": "display_data"
    }
   ],
   "source": [
    "sns.boxplot(dataset['Temperatura']).set_title('Temperatura')"
   ]
  },
  {
   "cell_type": "markdown",
   "id": "0761e5dc-0640-47d2-aee3-86dcc888be74",
   "metadata": {},
   "source": [
    "Pelo boxplot podemos perceber que o valor máximo da temperatura está realmente distorcendo os\n",
    "valores médios, uma vez que é uma medida muito elevada."
   ]
  },
  {
   "cell_type": "code",
   "execution_count": 17,
   "id": "f17127d1-6fce-4b64-aa37-9248df02ca42",
   "metadata": {},
   "outputs": [
    {
     "data": {
      "text/plain": [
       "Text(0.5, 1.0, 'Temperatura')"
      ]
     },
     "execution_count": 17,
     "metadata": {},
     "output_type": "execute_result"
    },
    {
     "data": {
      "image/png": "[encoded data removed]",
      "text/plain": [
       "<Figure size 432x288 with 1 Axes>"
      ]
     },
     "metadata": {
      "needs_background": "light"
     },
     "output_type": "display_data"
    }
   ],
   "source": [
    "sns.histplot(dataset['Temperatura']).set_title('Temperatura')"
   ]
  },
  {
   "cell_type": "markdown",
   "id": "ba6ed5c0-5e07-47a5-bccd-c5ef5b70ef06",
   "metadata": {},
   "source": [
    "O histograma mostra que somente um valor que está bem distante dos valores médios.\n",
    "\n",
    "- **Análise da variável numérica Umidade**\n",
    "\n",
    "Como Umidade é um dado numérico poderemos ver a estatística de seus resultados.\n"
   ]
  },
  {
   "cell_type": "code",
   "execution_count": 18,
   "id": "98bd8642-cac0-4171-9645-96a1871c166d",
   "metadata": {},
   "outputs": [
    {
     "data": {
      "text/plain": [
       "count     13.000000\n",
       "mean      89.769231\n",
       "std       34.540203\n",
       "min       65.000000\n",
       "25%       70.000000\n",
       "50%       85.000000\n",
       "75%       90.000000\n",
       "max      200.000000\n",
       "Name: Umidade, dtype: float64"
      ]
     },
     "execution_count": 18,
     "metadata": {},
     "output_type": "execute_result"
    }
   ],
   "source": [
    "dataset['Umidade'].describe()"
   ]
  },
  {
   "cell_type": "markdown",
   "id": "ba8f4583-0dcb-4e2e-8db6-87d401b209b3",
   "metadata": {},
   "source": [
    "Nesses dados podemos perceber que a média (89.76) e a mediana (85) estão próximos, entretanto \n",
    "o valor mínimo da umidade está bem elevado enquanto o valor máximo está fora do domínio do\n",
    "problema."
   ]
  },
  {
   "cell_type": "code",
   "execution_count": 19,
   "id": "c68762d3-ae78-4d74-8507-53eefcc94245",
   "metadata": {},
   "outputs": [
    {
     "data": {
      "text/plain": [
       "Text(0.5, 1.0, 'Umidade')"
      ]
     },
     "execution_count": 19,
     "metadata": {},
     "output_type": "execute_result"
    },
    {
     "data": {
      "image/png": "[encoded data removed]",
      "text/plain": [
       "<Figure size 432x288 with 1 Axes>"
      ]
     },
     "metadata": {
      "needs_background": "light"
     },
     "output_type": "display_data"
    }
   ],
   "source": [
    "sns.boxplot(dataset['Umidade']).set_title('Umidade')"
   ]
  },
  {
   "cell_type": "markdown",
   "id": "ec733fea-7099-43eb-bc90-2e395f6c2b87",
   "metadata": {},
   "source": [
    "Pelo gráfico de boxplot podemos perceber que o valor de máximo é um valor outliers (discrepante). Sendo portanto um valor muito fora do padrão."
   ]
  },
  {
   "cell_type": "code",
   "execution_count": 20,
   "id": "b9929e65-6dd5-4aab-81f0-570da863ac6b",
   "metadata": {},
   "outputs": [
    {
     "data": {
      "text/plain": [
       "Text(0.5, 1.0, 'Umidade')"
      ]
     },
     "execution_count": 20,
     "metadata": {},
     "output_type": "execute_result"
    },
    {
     "data": {
      "image/png": "[encoded data removed]",
      "text/plain": [
       "<Figure size 432x288 with 1 Axes>"
      ]
     },
     "metadata": {
      "needs_background": "light"
     },
     "output_type": "display_data"
    }
   ],
   "source": [
    "sns.histplot(dataset['Umidade']).set_title('Umidade')"
   ]
  },
  {
   "cell_type": "markdown",
   "id": "13466a1a-e1de-43a4-8b3d-b1761bc52ab3",
   "metadata": {},
   "source": [
    "Agora que terminamos a etapa da análise exploratória vamos tratar os resultados.\n",
    "\n",
    "# Tratamento dos dados\n"
   ]
  },
  {
   "cell_type": "markdown",
   "id": "38f7b1f6-6f60-4f62-8b3f-3c0c7f893f86",
   "metadata": {},
   "source": [
    "#### Etapa 3\n",
    "\n",
    "Agora vamos realizar o tratamento dos dados. Iniciaremos o tratamento dos dados categóricos.\n",
    "\n",
    "- **Tratamento da variável categórica Aparência**\n",
    "\n",
    "O problema existente nessa variável é o atributo menos, que não deve existir no contexto da variável. \n",
    "Vamos eliminar esse atributo e adicionar seu valor ao valor da moda. Como chuva e sol são as \n",
    "modas da variável Aparencia, então vamos estabelecer o valor chuva para receber o dado.\n"
   ]
  },
  {
   "cell_type": "code",
   "execution_count": 22,
   "id": "63b2b6e1-4291-4e38-a06d-985dbf01ef88",
   "metadata": {},
   "outputs": [
    {
     "data": {
      "text/plain": [
       "Aparencia\n",
       "chuva      5\n",
       "menos      1\n",
       "nublado    3\n",
       "sol        5\n",
       "dtype: int64"
      ]
     },
     "execution_count": 22,
     "metadata": {},
     "output_type": "execute_result"
    }
   ],
   "source": [
    "dataset.groupby(dataset['Aparencia']).size()"
   ]
  },
  {
   "cell_type": "code",
   "execution_count": 25,
   "id": "0a687140-39aa-4db6-aebb-a7ea557978d1",
   "metadata": {},
   "outputs": [
    {
     "data": {
      "text/plain": [
       "Aparencia\n",
       "chuva      6\n",
       "nublado    3\n",
       "sol        5\n",
       "dtype: int64"
      ]
     },
     "execution_count": 25,
     "metadata": {},
     "output_type": "execute_result"
    }
   ],
   "source": [
    "dataset.loc[dataset['Aparencia'] == 'menos', 'Aparencia'] = 'chuva'\n",
    "dataset.groupby(dataset['Aparencia']).size()"
   ]
  },
  {
   "cell_type": "markdown",
   "id": "f6abca04-3d38-4422-ad06-3f80e68a6d25",
   "metadata": {},
   "source": [
    "- **Tratamento da variável categórica Vento**\n",
    "\n",
    "Não existem problemas nessa variável. "
   ]
  },
  {
   "cell_type": "code",
   "execution_count": 27,
   "id": "da1d76f0-b9ee-4aeb-9ab7-8e29884f9538",
   "metadata": {},
   "outputs": [
    {
     "data": {
      "text/plain": [
       "Vento\n",
       "FALSO         7\n",
       "VERDADEIRO    6\n",
       "dtype: int64"
      ]
     },
     "execution_count": 27,
     "metadata": {},
     "output_type": "execute_result"
    }
   ],
   "source": [
    "dataset.groupby(dataset['Vento']).size()"
   ]
  },
  {
   "cell_type": "code",
   "execution_count": 45,
   "id": "24274962-2bbc-4da6-9d59-07b6b6743633",
   "metadata": {},
   "outputs": [
    {
     "data": {
      "text/plain": [
       "Aparencia      0\n",
       "Temperatura    0\n",
       "Umidade        1\n",
       "Vento          0\n",
       "Jogar          0\n",
       "dtype: int64"
      ]
     },
     "execution_count": 45,
     "metadata": {},
     "output_type": "execute_result"
    }
   ],
   "source": [
    "dataset.isnull().sum()"
   ]
  },
  {
   "cell_type": "markdown",
   "id": "17c05be8-7507-4ef6-aca4-faa96f18ff26",
   "metadata": {},
   "source": [
    "- **Tratamento da variável categórica Jogar**\n",
    "\n",
    "Não existem problemas nessa variável."
   ]
  },
  {
   "cell_type": "code",
   "execution_count": 29,
   "id": "14cf8242-03e4-4f73-a7af-af7a7d473788",
   "metadata": {},
   "outputs": [
    {
     "data": {
      "text/plain": [
       "Jogar\n",
       "nao    5\n",
       "sim    9\n",
       "dtype: int64"
      ]
     },
     "execution_count": 29,
     "metadata": {},
     "output_type": "execute_result"
    }
   ],
   "source": [
    "dataset.groupby(dataset['Jogar']).size()"
   ]
  },
  {
   "cell_type": "markdown",
   "id": "67957815-7c6a-4d22-a994-4650b96e8253",
   "metadata": {},
   "source": [
    "- **Tratamento da variável numérica Temperatura**\n",
    "\n",
    "Nesse dado o valor de máximo está fora do domínio do problema, devemos buscar arrumar esse problema. Como conhecemos os valores\n",
    "de extremo do problema, então podemos testar quantos valores são maiores ou menores que os extremos."
   ]
  },
  {
   "cell_type": "code",
   "execution_count": 31,
   "id": "ab125f2f-abe3-4d9e-bd3e-4f735ba4d0af",
   "metadata": {},
   "outputs": [
    {
     "data": {
      "text/html": [
       "<div>\n",
       "<style scoped>\n",
       "    .dataframe tbody tr th:only-of-type {\n",
       "        vertical-align: middle;\n",
       "    }\n",
       "\n",
       "    .dataframe tbody tr th {\n",
       "        vertical-align: top;\n",
       "    }\n",
       "\n",
       "    .dataframe thead th {\n",
       "        text-align: right;\n",
       "    }\n",
       "</style>\n",
       "<table border=\"1\" class=\"dataframe\">\n",
       "  <thead>\n",
       "    <tr style=\"text-align: right;\">\n",
       "      <th></th>\n",
       "      <th>Aparencia</th>\n",
       "      <th>Temperatura</th>\n",
       "      <th>Umidade</th>\n",
       "      <th>Vento</th>\n",
       "      <th>Jogar</th>\n",
       "    </tr>\n",
       "  </thead>\n",
       "  <tbody>\n",
       "    <tr>\n",
       "      <th>7</th>\n",
       "      <td>sol</td>\n",
       "      <td>1220</td>\n",
       "      <td>95.0</td>\n",
       "      <td>FALSO</td>\n",
       "      <td>nao</td>\n",
       "    </tr>\n",
       "  </tbody>\n",
       "</table>\n",
       "</div>"
      ],
      "text/plain": [
       "  Aparencia  Temperatura  Umidade  Vento Jogar\n",
       "7       sol         1220     95.0  FALSO   nao"
      ]
     },
     "execution_count": 31,
     "metadata": {},
     "output_type": "execute_result"
    }
   ],
   "source": [
    "dataset.loc[(dataset['Temperatura'] < -130) | (dataset['Temperatura'] > 130)]"
   ]
  },
  {
   "cell_type": "markdown",
   "id": "9492e974-bde9-45e9-9ced-52790255a3fc",
   "metadata": {},
   "source": [
    "Podemos notar que somente existe um único valor que está fora do intervalo de interesse. Vamos calcular a mediana e substituir tal valor pela mediana."
   ]
  },
  {
   "cell_type": "code",
   "execution_count": 33,
   "id": "29f62a40-3561-42c8-938e-a965834f2617",
   "metadata": {},
   "outputs": [
    {
     "data": {
      "text/plain": [
       "73.5"
      ]
     },
     "execution_count": 33,
     "metadata": {},
     "output_type": "execute_result"
    }
   ],
   "source": [
    "mediana_temperatura = sts.median(dataset['Temperatura'])\n",
    "mediana_temperatura"
   ]
  },
  {
   "cell_type": "code",
   "execution_count": 35,
   "id": "20a31c05-3f11-4063-9c50-4b5164396c42",
   "metadata": {},
   "outputs": [
    {
     "data": {
      "text/html": [
       "<div>\n",
       "<style scoped>\n",
       "    .dataframe tbody tr th:only-of-type {\n",
       "        vertical-align: middle;\n",
       "    }\n",
       "\n",
       "    .dataframe tbody tr th {\n",
       "        vertical-align: top;\n",
       "    }\n",
       "\n",
       "    .dataframe thead th {\n",
       "        text-align: right;\n",
       "    }\n",
       "</style>\n",
       "<table border=\"1\" class=\"dataframe\">\n",
       "  <thead>\n",
       "    <tr style=\"text-align: right;\">\n",
       "      <th></th>\n",
       "      <th>Aparencia</th>\n",
       "      <th>Temperatura</th>\n",
       "      <th>Umidade</th>\n",
       "      <th>Vento</th>\n",
       "      <th>Jogar</th>\n",
       "    </tr>\n",
       "  </thead>\n",
       "  <tbody>\n",
       "  </tbody>\n",
       "</table>\n",
       "</div>"
      ],
      "text/plain": [
       "Empty DataFrame\n",
       "Columns: [Aparencia, Temperatura, Umidade, Vento, Jogar]\n",
       "Index: []"
      ]
     },
     "execution_count": 35,
     "metadata": {},
     "output_type": "execute_result"
    }
   ],
   "source": [
    "dataset.loc[(dataset['Temperatura'] < -130) | (dataset['Temperatura'] > 130)] = mediana_temperatura\n",
    "dataset.loc[(dataset['Temperatura'] < -130) | (dataset['Temperatura'] > 130)]"
   ]
  },
  {
   "cell_type": "code",
   "execution_count": 36,
   "id": "e3a2d19c-a586-4f92-b7cb-a9a1b24b290f",
   "metadata": {},
   "outputs": [
    {
     "data": {
      "text/plain": [
       "Text(0.5, 1.0, 'Temperatura')"
      ]
     },
     "execution_count": 36,
     "metadata": {},
     "output_type": "execute_result"
    },
    {
     "data": {
      "image/png": "[encoded data removed]",
      "text/plain": [
       "<Figure size 432x288 with 1 Axes>"
      ]
     },
     "metadata": {
      "needs_background": "light"
     },
     "output_type": "display_data"
    }
   ],
   "source": [
    "sns.boxplot(dataset['Temperatura']).set_title('Temperatura')"
   ]
  },
  {
   "cell_type": "code",
   "execution_count": 37,
   "id": "34982867-8a2c-42b1-a6de-844415e2235b",
   "metadata": {},
   "outputs": [
    {
     "data": {
      "text/plain": [
       "Text(0.5, 1.0, 'Temperatura')"
      ]
     },
     "execution_count": 37,
     "metadata": {},
     "output_type": "execute_result"
    },
    {
     "data": {
      "image/png": "[encoded data removed]",
      "text/plain": [
       "<Figure size 432x288 with 1 Axes>"
      ]
     },
     "metadata": {
      "needs_background": "light"
     },
     "output_type": "display_data"
    }
   ],
   "source": [
    "sns.histplot(dataset['Temperatura']).set_title('Temperatura')"
   ]
  },
  {
   "cell_type": "markdown",
   "id": "0a7d00dc-c5d0-4fc0-b5d3-be9a8638b798",
   "metadata": {},
   "source": [
    "Observe como os resultados ficaram agora muito harmônicos ser o valor outlier."
   ]
  },
  {
   "cell_type": "markdown",
   "id": "1984fcad-5ac7-4e75-a7f1-677f149e5731",
   "metadata": {},
   "source": [
    "- **Tratamento da variável numérica Umidade**\n",
    "\n",
    "Nesse dado o valor de máximo está fora do domínio do problema, devemos buscar arrumar esse problema. Como conhecemos os valores\n",
    "de extremo do problema, então podemos testar quantos valores são maiores ou menores que os extremos."
   ]
  },
  {
   "cell_type": "code",
   "execution_count": 38,
   "id": "bc4d8c3f-c0e0-4946-8aed-1522d5bd2022",
   "metadata": {},
   "outputs": [
    {
     "data": {
      "text/plain": [
       "count     13.000000\n",
       "mean      88.115385\n",
       "std       34.782751\n",
       "min       65.000000\n",
       "25%       70.000000\n",
       "50%       80.000000\n",
       "75%       90.000000\n",
       "max      200.000000\n",
       "Name: Umidade, dtype: float64"
      ]
     },
     "execution_count": 38,
     "metadata": {},
     "output_type": "execute_result"
    }
   ],
   "source": [
    "dataset['Umidade'].describe()"
   ]
  },
  {
   "cell_type": "code",
   "execution_count": 39,
   "id": "8c29ba7f-f395-46a3-b178-98576e1ee876",
   "metadata": {},
   "outputs": [
    {
     "data": {
      "text/html": [
       "<div>\n",
       "<style scoped>\n",
       "    .dataframe tbody tr th:only-of-type {\n",
       "        vertical-align: middle;\n",
       "    }\n",
       "\n",
       "    .dataframe tbody tr th {\n",
       "        vertical-align: top;\n",
       "    }\n",
       "\n",
       "    .dataframe thead th {\n",
       "        text-align: right;\n",
       "    }\n",
       "</style>\n",
       "<table border=\"1\" class=\"dataframe\">\n",
       "  <thead>\n",
       "    <tr style=\"text-align: right;\">\n",
       "      <th></th>\n",
       "      <th>Aparencia</th>\n",
       "      <th>Temperatura</th>\n",
       "      <th>Umidade</th>\n",
       "      <th>Vento</th>\n",
       "      <th>Jogar</th>\n",
       "    </tr>\n",
       "  </thead>\n",
       "  <tbody>\n",
       "    <tr>\n",
       "      <th>9</th>\n",
       "      <td>chuva</td>\n",
       "      <td>75.0</td>\n",
       "      <td>200.0</td>\n",
       "      <td>NaN</td>\n",
       "      <td>sim</td>\n",
       "    </tr>\n",
       "  </tbody>\n",
       "</table>\n",
       "</div>"
      ],
      "text/plain": [
       "  Aparencia  Temperatura  Umidade Vento Jogar\n",
       "9     chuva         75.0    200.0   NaN   sim"
      ]
     },
     "execution_count": 39,
     "metadata": {},
     "output_type": "execute_result"
    }
   ],
   "source": [
    "dataset.loc[(dataset['Umidade'] < 0) | (dataset['Umidade'] > 100)]"
   ]
  },
  {
   "cell_type": "markdown",
   "id": "d5beced9-7df5-4ae1-b181-1a4565b9820b",
   "metadata": {},
   "source": [
    "Existe um valor de umidade que está fora do domínio do problema."
   ]
  },
  {
   "cell_type": "code",
   "execution_count": 40,
   "id": "c65888c9-b6a0-4fa3-b41d-d4ac78ab6cf7",
   "metadata": {},
   "outputs": [
    {
     "data": {
      "text/plain": [
       "82.5"
      ]
     },
     "execution_count": 40,
     "metadata": {},
     "output_type": "execute_result"
    }
   ],
   "source": [
    "mediana_umidade = sts.median(dataset['Umidade'])\n",
    "mediana_umidade"
   ]
  },
  {
   "cell_type": "code",
   "execution_count": 42,
   "id": "b709c86b-cf3c-464d-89bb-12b8adb69cd3",
   "metadata": {},
   "outputs": [
    {
     "data": {
      "text/html": [
       "<div>\n",
       "<style scoped>\n",
       "    .dataframe tbody tr th:only-of-type {\n",
       "        vertical-align: middle;\n",
       "    }\n",
       "\n",
       "    .dataframe tbody tr th {\n",
       "        vertical-align: top;\n",
       "    }\n",
       "\n",
       "    .dataframe thead th {\n",
       "        text-align: right;\n",
       "    }\n",
       "</style>\n",
       "<table border=\"1\" class=\"dataframe\">\n",
       "  <thead>\n",
       "    <tr style=\"text-align: right;\">\n",
       "      <th></th>\n",
       "      <th>Aparencia</th>\n",
       "      <th>Temperatura</th>\n",
       "      <th>Umidade</th>\n",
       "      <th>Vento</th>\n",
       "      <th>Jogar</th>\n",
       "    </tr>\n",
       "  </thead>\n",
       "  <tbody>\n",
       "  </tbody>\n",
       "</table>\n",
       "</div>"
      ],
      "text/plain": [
       "Empty DataFrame\n",
       "Columns: [Aparencia, Temperatura, Umidade, Vento, Jogar]\n",
       "Index: []"
      ]
     },
     "execution_count": 42,
     "metadata": {},
     "output_type": "execute_result"
    }
   ],
   "source": [
    "dataset.loc[(dataset['Umidade'] < 0) | (dataset['Umidade'] > 100)] = mediana_umidade\n",
    "dataset.loc[(dataset['Umidade'] < 0) | (dataset['Umidade'] > 100)]"
   ]
  },
  {
   "cell_type": "code",
   "execution_count": 43,
   "id": "63e56641-2181-441f-996c-8e99e39a14c1",
   "metadata": {},
   "outputs": [
    {
     "data": {
      "text/plain": [
       "Text(0.5, 1.0, 'Umidade')"
      ]
     },
     "execution_count": 43,
     "metadata": {},
     "output_type": "execute_result"
    },
    {
     "data": {
      "image/png": "[encoded data removed]",
      "text/plain": [
       "<Figure size 432x288 with 1 Axes>"
      ]
     },
     "metadata": {
      "needs_background": "light"
     },
     "output_type": "display_data"
    }
   ],
   "source": [
    "sns.boxplot(dataset['Umidade']).set_title('Umidade')"
   ]
  },
  {
   "cell_type": "code",
   "execution_count": 44,
   "id": "78ec0619-8225-4e9f-81a4-028b8699ebdb",
   "metadata": {},
   "outputs": [
    {
     "data": {
      "text/plain": [
       "Text(0.5, 1.0, 'Umidade')"
      ]
     },
     "execution_count": 44,
     "metadata": {},
     "output_type": "execute_result"
    },
    {
     "data": {
      "image/png": "[encoded data removed]",
      "text/plain": [
       "<Figure size 432x288 with 1 Axes>"
      ]
     },
     "metadata": {
      "needs_background": "light"
     },
     "output_type": "display_data"
    }
   ],
   "source": [
    "sns.histplot(dataset['Umidade']).set_title('Umidade')"
   ]
  },
  {
   "cell_type": "markdown",
   "id": "577faeef-ea6b-4721-a542-113d066c8031",
   "metadata": {},
   "source": [
    "Novamente podemos verificar uma harmônia nos resultados."
   ]
  },
  {
   "cell_type": "code",
   "execution_count": 46,
   "id": "84a87951-5acc-4e5f-9d8a-aee04a2c2be5",
   "metadata": {},
   "outputs": [
    {
     "data": {
      "text/plain": [
       "1"
      ]
     },
     "execution_count": 46,
     "metadata": {},
     "output_type": "execute_result"
    }
   ],
   "source": [
    "dataset['Umidade'].isnull().sum()"
   ]
  },
  {
   "cell_type": "markdown",
   "id": "8d14cabe-c4fa-479a-9240-e3b2769acfaf",
   "metadata": {},
   "source": [
    "Como Umidade apresenta um valor falatante devemos tratar esse resultado."
   ]
  },
  {
   "cell_type": "code",
   "execution_count": 49,
   "id": "b4b28a79-2db3-4565-a188-f067488353d0",
   "metadata": {},
   "outputs": [
    {
     "data": {
      "text/plain": [
       "0"
      ]
     },
     "execution_count": 49,
     "metadata": {},
     "output_type": "execute_result"
    }
   ],
   "source": [
    "dataset['Umidade'].fillna(mediana_umidade, inplace=True)\n",
    "dataset['Umidade'].isnull().sum()"
   ]
  },
  {
   "cell_type": "code",
   "execution_count": 50,
   "id": "c05874e0-3ae6-4c49-be2b-6aa92bbdbedb",
   "metadata": {},
   "outputs": [
    {
     "data": {
      "text/plain": [
       "Text(0.5, 1.0, 'Umidade')"
      ]
     },
     "execution_count": 50,
     "metadata": {},
     "output_type": "execute_result"
    },
    {
     "data": {
      "image/png": "[encoded data removed]",
      "text/plain": [
       "<Figure size 432x288 with 1 Axes>"
      ]
     },
     "metadata": {
      "needs_background": "light"
     },
     "output_type": "display_data"
    }
   ],
   "source": [
    "sns.boxplot(dataset['Umidade']).set_title('Umidade')"
   ]
  },
  {
   "cell_type": "code",
   "execution_count": 51,
   "id": "83ff3d82-3c54-4e1c-b81b-521b26c0c9f1",
   "metadata": {},
   "outputs": [
    {
     "data": {
      "text/plain": [
       "Text(0.5, 1.0, 'Umidade')"
      ]
     },
     "execution_count": 51,
     "metadata": {},
     "output_type": "execute_result"
    },
    {
     "data": {
      "image/png": "[encoded data removed]",
      "text/plain": [
       "<Figure size 432x288 with 1 Axes>"
      ]
     },
     "metadata": {
      "needs_background": "light"
     },
     "output_type": "display_data"
    }
   ],
   "source": [
    "sns.histplot(dataset['Umidade']).set_title('Umidade')"
   ]
  },
  {
   "cell_type": "markdown",
   "id": "6cb9f356-24ca-4ac3-85fc-0930706a2218",
   "metadata": {},
   "source": [
    "Agora não temos valores faltantes na variável númerica umidade."
   ]
  },
  {
   "cell_type": "code",
   "execution_count": 52,
   "id": "927e603c-2184-4043-98c1-233fbfd99b37",
   "metadata": {},
   "outputs": [
    {
     "data": {
      "text/html": [
       "<div>\n",
       "<style scoped>\n",
       "    .dataframe tbody tr th:only-of-type {\n",
       "        vertical-align: middle;\n",
       "    }\n",
       "\n",
       "    .dataframe tbody tr th {\n",
       "        vertical-align: top;\n",
       "    }\n",
       "\n",
       "    .dataframe thead th {\n",
       "        text-align: right;\n",
       "    }\n",
       "</style>\n",
       "<table border=\"1\" class=\"dataframe\">\n",
       "  <thead>\n",
       "    <tr style=\"text-align: right;\">\n",
       "      <th></th>\n",
       "      <th>Aparencia</th>\n",
       "      <th>Temperatura</th>\n",
       "      <th>Umidade</th>\n",
       "      <th>Vento</th>\n",
       "      <th>Jogar</th>\n",
       "    </tr>\n",
       "  </thead>\n",
       "  <tbody>\n",
       "    <tr>\n",
       "      <th>0</th>\n",
       "      <td>False</td>\n",
       "      <td>False</td>\n",
       "      <td>False</td>\n",
       "      <td>False</td>\n",
       "      <td>False</td>\n",
       "    </tr>\n",
       "    <tr>\n",
       "      <th>1</th>\n",
       "      <td>False</td>\n",
       "      <td>False</td>\n",
       "      <td>False</td>\n",
       "      <td>False</td>\n",
       "      <td>False</td>\n",
       "    </tr>\n",
       "    <tr>\n",
       "      <th>2</th>\n",
       "      <td>False</td>\n",
       "      <td>False</td>\n",
       "      <td>False</td>\n",
       "      <td>False</td>\n",
       "      <td>False</td>\n",
       "    </tr>\n",
       "    <tr>\n",
       "      <th>3</th>\n",
       "      <td>False</td>\n",
       "      <td>False</td>\n",
       "      <td>False</td>\n",
       "      <td>False</td>\n",
       "      <td>False</td>\n",
       "    </tr>\n",
       "    <tr>\n",
       "      <th>4</th>\n",
       "      <td>False</td>\n",
       "      <td>False</td>\n",
       "      <td>False</td>\n",
       "      <td>False</td>\n",
       "      <td>False</td>\n",
       "    </tr>\n",
       "    <tr>\n",
       "      <th>5</th>\n",
       "      <td>False</td>\n",
       "      <td>False</td>\n",
       "      <td>False</td>\n",
       "      <td>False</td>\n",
       "      <td>False</td>\n",
       "    </tr>\n",
       "    <tr>\n",
       "      <th>6</th>\n",
       "      <td>False</td>\n",
       "      <td>False</td>\n",
       "      <td>False</td>\n",
       "      <td>False</td>\n",
       "      <td>False</td>\n",
       "    </tr>\n",
       "    <tr>\n",
       "      <th>7</th>\n",
       "      <td>False</td>\n",
       "      <td>False</td>\n",
       "      <td>False</td>\n",
       "      <td>False</td>\n",
       "      <td>False</td>\n",
       "    </tr>\n",
       "    <tr>\n",
       "      <th>8</th>\n",
       "      <td>False</td>\n",
       "      <td>False</td>\n",
       "      <td>False</td>\n",
       "      <td>False</td>\n",
       "      <td>False</td>\n",
       "    </tr>\n",
       "    <tr>\n",
       "      <th>9</th>\n",
       "      <td>False</td>\n",
       "      <td>False</td>\n",
       "      <td>False</td>\n",
       "      <td>False</td>\n",
       "      <td>False</td>\n",
       "    </tr>\n",
       "    <tr>\n",
       "      <th>10</th>\n",
       "      <td>False</td>\n",
       "      <td>False</td>\n",
       "      <td>False</td>\n",
       "      <td>False</td>\n",
       "      <td>False</td>\n",
       "    </tr>\n",
       "    <tr>\n",
       "      <th>11</th>\n",
       "      <td>False</td>\n",
       "      <td>False</td>\n",
       "      <td>False</td>\n",
       "      <td>False</td>\n",
       "      <td>False</td>\n",
       "    </tr>\n",
       "    <tr>\n",
       "      <th>12</th>\n",
       "      <td>False</td>\n",
       "      <td>False</td>\n",
       "      <td>False</td>\n",
       "      <td>False</td>\n",
       "      <td>False</td>\n",
       "    </tr>\n",
       "    <tr>\n",
       "      <th>13</th>\n",
       "      <td>False</td>\n",
       "      <td>False</td>\n",
       "      <td>False</td>\n",
       "      <td>False</td>\n",
       "      <td>False</td>\n",
       "    </tr>\n",
       "  </tbody>\n",
       "</table>\n",
       "</div>"
      ],
      "text/plain": [
       "    Aparencia  Temperatura  Umidade  Vento  Jogar\n",
       "0       False        False    False  False  False\n",
       "1       False        False    False  False  False\n",
       "2       False        False    False  False  False\n",
       "3       False        False    False  False  False\n",
       "4       False        False    False  False  False\n",
       "5       False        False    False  False  False\n",
       "6       False        False    False  False  False\n",
       "7       False        False    False  False  False\n",
       "8       False        False    False  False  False\n",
       "9       False        False    False  False  False\n",
       "10      False        False    False  False  False\n",
       "11      False        False    False  False  False\n",
       "12      False        False    False  False  False\n",
       "13      False        False    False  False  False"
      ]
     },
     "execution_count": 52,
     "metadata": {},
     "output_type": "execute_result"
    }
   ],
   "source": [
    "dataset.isnull()"
   ]
  },
  {
   "cell_type": "code",
   "execution_count": 54,
   "id": "2b6e67d4-a3ad-4191-a190-0deb03fc2804",
   "metadata": {},
   "outputs": [
    {
     "data": {
      "text/plain": [
       "Aparencia      0\n",
       "Temperatura    0\n",
       "Umidade        0\n",
       "Vento          0\n",
       "Jogar          0\n",
       "dtype: int64"
      ]
     },
     "execution_count": 54,
     "metadata": {},
     "output_type": "execute_result"
    }
   ],
   "source": [
    "dataset.isnull().sum()"
   ]
  },
  {
   "cell_type": "markdown",
   "id": "da185278-4613-4c79-9cfc-a693014befea",
   "metadata": {},
   "source": [
    "O nosso conjunto de dados não apresenta nenhum valor faltante. Concluimos o tratamento dos dados."
   ]
  },
  {
   "cell_type": "code",
   "execution_count": null,
   "id": "817a2b5b-c3d7-4dfe-8a51-d7868422a157",
   "metadata": {},
   "outputs": [],
   "source": []
  }
 ],
 "metadata": {
  "kernelspec": {
   "display_name": "Python 3 (ipykernel)",
   "language": "python",
   "name": "python3"
  },
  "language_info": {
   "codemirror_mode": {
    "name": "ipython",
    "version": 3
   },
   "file_extension": ".py",
   "mimetype": "text/x-python",
   "name": "python",
   "nbconvert_exporter": "python",
   "pygments_lexer": "ipython3",
   "version": "3.9.7"
  }
 },
 "nbformat": 4,
 "nbformat_minor": 5
}
