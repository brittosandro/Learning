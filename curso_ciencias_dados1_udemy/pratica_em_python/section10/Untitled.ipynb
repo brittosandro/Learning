{
 "cells": [
  {
   "cell_type": "markdown",
   "id": "dd364164-a758-4c9e-97fa-9da9fd217aa2",
   "metadata": {},
   "source": [
    "## Aula 10 - Limpesa e Tratamento de Dados"
   ]
  },
  {
   "cell_type": "code",
   "execution_count": 2,
   "id": "bb6b9a35-800c-4f66-b85c-cd92a8878bf4",
   "metadata": {},
   "outputs": [],
   "source": [
    "import pandas as pd\n",
    "import seaborn as sns\n",
    "import statistics as sts"
   ]
  },
  {
   "cell_type": "code",
   "execution_count": 3,
   "id": "1527c40f-72dc-4305-9fea-baa160f577c1",
   "metadata": {},
   "outputs": [
    {
     "data": {
      "text/html": [
       "<div>\n",
       "<style scoped>\n",
       "    .dataframe tbody tr th:only-of-type {\n",
       "        vertical-align: middle;\n",
       "    }\n",
       "\n",
       "    .dataframe tbody tr th {\n",
       "        vertical-align: top;\n",
       "    }\n",
       "\n",
       "    .dataframe thead th {\n",
       "        text-align: right;\n",
       "    }\n",
       "</style>\n",
       "<table border=\"1\" class=\"dataframe\">\n",
       "  <thead>\n",
       "    <tr style=\"text-align: right;\">\n",
       "      <th></th>\n",
       "      <th>X0</th>\n",
       "      <th>X1</th>\n",
       "      <th>X2</th>\n",
       "      <th>X3</th>\n",
       "      <th>X4</th>\n",
       "      <th>X4.1</th>\n",
       "      <th>X6</th>\n",
       "      <th>X7</th>\n",
       "      <th>X8</th>\n",
       "      <th>X9</th>\n",
       "      <th>X10</th>\n",
       "      <th>X11</th>\n",
       "    </tr>\n",
       "  </thead>\n",
       "  <tbody>\n",
       "    <tr>\n",
       "      <th>0</th>\n",
       "      <td>1</td>\n",
       "      <td>619</td>\n",
       "      <td>RS</td>\n",
       "      <td>Feminino</td>\n",
       "      <td>42</td>\n",
       "      <td>2</td>\n",
       "      <td>0</td>\n",
       "      <td>1</td>\n",
       "      <td>1</td>\n",
       "      <td>1</td>\n",
       "      <td>10134888.0</td>\n",
       "      <td>1</td>\n",
       "    </tr>\n",
       "    <tr>\n",
       "      <th>1</th>\n",
       "      <td>2</td>\n",
       "      <td>608</td>\n",
       "      <td>SC</td>\n",
       "      <td>Feminino</td>\n",
       "      <td>41</td>\n",
       "      <td>1</td>\n",
       "      <td>8380786</td>\n",
       "      <td>1</td>\n",
       "      <td>0</td>\n",
       "      <td>1</td>\n",
       "      <td>11254258.0</td>\n",
       "      <td>0</td>\n",
       "    </tr>\n",
       "    <tr>\n",
       "      <th>2</th>\n",
       "      <td>3</td>\n",
       "      <td>502</td>\n",
       "      <td>RS</td>\n",
       "      <td>Feminino</td>\n",
       "      <td>42</td>\n",
       "      <td>8</td>\n",
       "      <td>1596608</td>\n",
       "      <td>3</td>\n",
       "      <td>1</td>\n",
       "      <td>0</td>\n",
       "      <td>11393157.0</td>\n",
       "      <td>1</td>\n",
       "    </tr>\n",
       "    <tr>\n",
       "      <th>3</th>\n",
       "      <td>4</td>\n",
       "      <td>699</td>\n",
       "      <td>RS</td>\n",
       "      <td>Feminino</td>\n",
       "      <td>39</td>\n",
       "      <td>1</td>\n",
       "      <td>0</td>\n",
       "      <td>2</td>\n",
       "      <td>0</td>\n",
       "      <td>0</td>\n",
       "      <td>9382663.0</td>\n",
       "      <td>0</td>\n",
       "    </tr>\n",
       "    <tr>\n",
       "      <th>4</th>\n",
       "      <td>5</td>\n",
       "      <td>850</td>\n",
       "      <td>SC</td>\n",
       "      <td>Feminino</td>\n",
       "      <td>43</td>\n",
       "      <td>2</td>\n",
       "      <td>12551082</td>\n",
       "      <td>1</td>\n",
       "      <td>1</td>\n",
       "      <td>1</td>\n",
       "      <td>790841.0</td>\n",
       "      <td>0</td>\n",
       "    </tr>\n",
       "  </tbody>\n",
       "</table>\n",
       "</div>"
      ],
      "text/plain": [
       "   X0   X1  X2        X3  X4  X4.1        X6  X7  X8  X9         X10  X11\n",
       "0   1  619  RS  Feminino  42     2         0   1   1   1  10134888.0    1\n",
       "1   2  608  SC  Feminino  41     1   8380786   1   0   1  11254258.0    0\n",
       "2   3  502  RS  Feminino  42     8   1596608   3   1   0  11393157.0    1\n",
       "3   4  699  RS  Feminino  39     1         0   2   0   0   9382663.0    0\n",
       "4   5  850  SC  Feminino  43     2  12551082   1   1   1    790841.0    0"
      ]
     },
     "execution_count": 3,
     "metadata": {},
     "output_type": "execute_result"
    }
   ],
   "source": [
    "# importar dados com pandas\n",
    "dataset = pd.read_csv(\"Churn.csv\", sep=\";\")\n",
    "\n",
    "# visualizando os dados, para parte de cima.\n",
    "dataset.head()"
   ]
  },
  {
   "cell_type": "markdown",
   "id": "afad22cd-b83f-4c24-b7ab-4afa3de54a03",
   "metadata": {},
   "source": [
    "Como em nossa base de dados não temos uma boa a informação sobre as colunas. Devemos achar uma maneira de\n",
    "resolver esse problema."
   ]
  },
  {
   "cell_type": "code",
   "execution_count": 4,
   "id": "3f956882-7ccc-4b4a-bb5d-4105eb280194",
   "metadata": {},
   "outputs": [
    {
     "data": {
      "text/plain": [
       "999"
      ]
     },
     "execution_count": 4,
     "metadata": {},
     "output_type": "execute_result"
    }
   ],
   "source": [
    "# Tamanho da base de dados. A saida de dataset.shape é uma tupla com linhas e colunas (linhas, colunas)\n",
    "quantidade_de_linhas = dataset.shape[0]\n",
    "quantidade_de_colunas = dataset.shape[1]\n",
    "\n",
    "quantidade_de_linhas"
   ]
  },
  {
   "cell_type": "code",
   "execution_count": 5,
   "id": "382bbb46-ef78-4cef-bd83-f7707ebb128c",
   "metadata": {},
   "outputs": [
    {
     "data": {
      "text/plain": [
       "12"
      ]
     },
     "execution_count": 5,
     "metadata": {},
     "output_type": "execute_result"
    }
   ],
   "source": [
    "quantidade_de_colunas"
   ]
  },
  {
   "cell_type": "markdown",
   "id": "47f108ee-9572-4f35-b5a2-f9bd394cde07",
   "metadata": {},
   "source": [
    "Note como em nossa base de dados temos 999 linhas e 12 colunas."
   ]
  },
  {
   "cell_type": "code",
   "execution_count": 6,
   "id": "1ad51b4f-a4c6-4f10-b662-9e04c947d6df",
   "metadata": {},
   "outputs": [],
   "source": [
    "dataset.columns = [\"ID\", \"Score\", \"Estado\" ,\"Genero\", \"Idade\", \n",
    "                   \"Patrimonio\", \"Saldo\", \"Produtos\", \n",
    "                   \"TemCartCredito\", \"Ativo\", \"Salario\", \"Saiu\"]"
   ]
  },
  {
   "cell_type": "code",
   "execution_count": 7,
   "id": "985fdc48-a49a-4a91-88ca-46d07546fae7",
   "metadata": {},
   "outputs": [
    {
     "data": {
      "text/html": [
       "<div>\n",
       "<style scoped>\n",
       "    .dataframe tbody tr th:only-of-type {\n",
       "        vertical-align: middle;\n",
       "    }\n",
       "\n",
       "    .dataframe tbody tr th {\n",
       "        vertical-align: top;\n",
       "    }\n",
       "\n",
       "    .dataframe thead th {\n",
       "        text-align: right;\n",
       "    }\n",
       "</style>\n",
       "<table border=\"1\" class=\"dataframe\">\n",
       "  <thead>\n",
       "    <tr style=\"text-align: right;\">\n",
       "      <th></th>\n",
       "      <th>ID</th>\n",
       "      <th>Score</th>\n",
       "      <th>Estado</th>\n",
       "      <th>Genero</th>\n",
       "      <th>Idade</th>\n",
       "      <th>Patrimonio</th>\n",
       "      <th>Saldo</th>\n",
       "      <th>Produtos</th>\n",
       "      <th>TemCartCredito</th>\n",
       "      <th>Ativo</th>\n",
       "      <th>Salario</th>\n",
       "      <th>Saiu</th>\n",
       "    </tr>\n",
       "  </thead>\n",
       "  <tbody>\n",
       "    <tr>\n",
       "      <th>0</th>\n",
       "      <td>1</td>\n",
       "      <td>619</td>\n",
       "      <td>RS</td>\n",
       "      <td>Feminino</td>\n",
       "      <td>42</td>\n",
       "      <td>2</td>\n",
       "      <td>0</td>\n",
       "      <td>1</td>\n",
       "      <td>1</td>\n",
       "      <td>1</td>\n",
       "      <td>10134888.0</td>\n",
       "      <td>1</td>\n",
       "    </tr>\n",
       "    <tr>\n",
       "      <th>1</th>\n",
       "      <td>2</td>\n",
       "      <td>608</td>\n",
       "      <td>SC</td>\n",
       "      <td>Feminino</td>\n",
       "      <td>41</td>\n",
       "      <td>1</td>\n",
       "      <td>8380786</td>\n",
       "      <td>1</td>\n",
       "      <td>0</td>\n",
       "      <td>1</td>\n",
       "      <td>11254258.0</td>\n",
       "      <td>0</td>\n",
       "    </tr>\n",
       "    <tr>\n",
       "      <th>2</th>\n",
       "      <td>3</td>\n",
       "      <td>502</td>\n",
       "      <td>RS</td>\n",
       "      <td>Feminino</td>\n",
       "      <td>42</td>\n",
       "      <td>8</td>\n",
       "      <td>1596608</td>\n",
       "      <td>3</td>\n",
       "      <td>1</td>\n",
       "      <td>0</td>\n",
       "      <td>11393157.0</td>\n",
       "      <td>1</td>\n",
       "    </tr>\n",
       "    <tr>\n",
       "      <th>3</th>\n",
       "      <td>4</td>\n",
       "      <td>699</td>\n",
       "      <td>RS</td>\n",
       "      <td>Feminino</td>\n",
       "      <td>39</td>\n",
       "      <td>1</td>\n",
       "      <td>0</td>\n",
       "      <td>2</td>\n",
       "      <td>0</td>\n",
       "      <td>0</td>\n",
       "      <td>9382663.0</td>\n",
       "      <td>0</td>\n",
       "    </tr>\n",
       "    <tr>\n",
       "      <th>4</th>\n",
       "      <td>5</td>\n",
       "      <td>850</td>\n",
       "      <td>SC</td>\n",
       "      <td>Feminino</td>\n",
       "      <td>43</td>\n",
       "      <td>2</td>\n",
       "      <td>12551082</td>\n",
       "      <td>1</td>\n",
       "      <td>1</td>\n",
       "      <td>1</td>\n",
       "      <td>790841.0</td>\n",
       "      <td>0</td>\n",
       "    </tr>\n",
       "  </tbody>\n",
       "</table>\n",
       "</div>"
      ],
      "text/plain": [
       "   ID  Score Estado    Genero  Idade  Patrimonio     Saldo  Produtos  \\\n",
       "0   1    619     RS  Feminino     42           2         0         1   \n",
       "1   2    608     SC  Feminino     41           1   8380786         1   \n",
       "2   3    502     RS  Feminino     42           8   1596608         3   \n",
       "3   4    699     RS  Feminino     39           1         0         2   \n",
       "4   5    850     SC  Feminino     43           2  12551082         1   \n",
       "\n",
       "   TemCartCredito  Ativo     Salario  Saiu  \n",
       "0               1      1  10134888.0     1  \n",
       "1               0      1  11254258.0     0  \n",
       "2               1      0  11393157.0     1  \n",
       "3               0      0   9382663.0     0  \n",
       "4               1      1    790841.0     0  "
      ]
     },
     "execution_count": 7,
     "metadata": {},
     "output_type": "execute_result"
    }
   ],
   "source": [
    "dataset.head()"
   ]
  },
  {
   "cell_type": "markdown",
   "id": "32624e0b-6588-408b-bb37-160d064fcac2",
   "metadata": {},
   "source": [
    "Esses dados são de uma instituição financeira.\n",
    "\n",
    "Observando a tabela, faremos uma análise dos clientes que apresentam uma tendência em deixar\n",
    "a instituição financeira e a partir dos dados criar medidas para que essa tendência não se concretize."
   ]
  },
  {
   "cell_type": "markdown",
   "id": "049edcac-1f2c-4efd-b409-cd03d41d8e2b",
   "metadata": {},
   "source": [
    "# Análise exploratória\n",
    "\n",
    "### Etapa 1\n",
    "\n",
    "Nessa etapa vamos realizar uma análise dos dados categóricos, ou seja, vamos investigar os dados para\n",
    "termos uma ideia do que casa informação dentro das categorias \"Estado\" e \"Genero\" significa. "
   ]
  },
  {
   "cell_type": "code",
   "execution_count": 8,
   "id": "fc4ce0ba-130e-4026-9e3a-ac08c28c4c0e",
   "metadata": {},
   "outputs": [
    {
     "data": {
      "text/plain": [
       "Estado\n",
       "PR    257\n",
       "RP      1\n",
       "RS    478\n",
       "SC    258\n",
       "SP      4\n",
       "TD      1\n",
       "dtype: int64"
      ]
     },
     "execution_count": 8,
     "metadata": {},
     "output_type": "execute_result"
    }
   ],
   "source": [
    "# explorando as categorias\n",
    "\n",
    "# categoria Estado\n",
    "agrupado = dataset.groupby(['Estado']).size()\n",
    "agrupado"
   ]
  },
  {
   "cell_type": "markdown",
   "id": "9f1de12b-480b-4962-aa1a-122220b0912e",
   "metadata": {},
   "source": [
    "Note que, pela saida dos dados existem alguns problemas, dentre eles são a existência de siglas de \n",
    "estados que não existem como: RP e TD, bem como estados que estão fora do nosso modelo de \n",
    "negócio, uma vez que só estamos interessados em estados da região Sul, portanto SP não deverá\n",
    "existir em nossa amostra."
   ]
  },
  {
   "cell_type": "code",
   "execution_count": 9,
   "id": "82e02c7b-e2b1-469c-b679-6a979e001a93",
   "metadata": {},
   "outputs": [
    {
     "data": {
      "text/plain": [
       "<AxesSubplot:xlabel='Estado'>"
      ]
     },
     "execution_count": 9,
     "metadata": {},
     "output_type": "execute_result"
    },
    {
     "data": {
      "image/png": "[encoded data removed]",
      "text/plain": [
       "<Figure size 432x288 with 1 Axes>"
      ]
     },
     "metadata": {
      "needs_background": "light"
     },
     "output_type": "display_data"
    }
   ],
   "source": [
    "# gráfico de barras para Estados\n",
    "agrupado.plot.bar(color='blue')"
   ]
  },
  {
   "cell_type": "markdown",
   "id": "98280591-0c55-4a85-a8ad-629f5e4acdc5",
   "metadata": {},
   "source": [
    "O gráfico de barras mostra que deveremos eliminar de nossa análise a representação RP, TD e SP."
   ]
  },
  {
   "cell_type": "code",
   "execution_count": 10,
   "id": "ff5f52d7-2dc2-45d1-9bfd-6c180a3a29ba",
   "metadata": {},
   "outputs": [
    {
     "data": {
      "text/plain": [
       "Genero\n",
       "F              2\n",
       "Fem            1\n",
       "Feminino     461\n",
       "M              6\n",
       "Masculino    521\n",
       "dtype: int64"
      ]
     },
     "execution_count": 10,
     "metadata": {},
     "output_type": "execute_result"
    }
   ],
   "source": [
    "# Analisar o grupo de Gênero\n",
    "agrup_genero = dataset.groupby(['Genero']).size()\n",
    "agrup_genero"
   ]
  },
  {
   "cell_type": "markdown",
   "id": "f6873990-a121-4d4d-b6fa-56d0f02f45da",
   "metadata": {},
   "source": [
    "Note nessa saida que deveremos agrupar termos que querem dizer a mesma coisa. A denominação F quer dizer o\n",
    "mesmo que Fem que designa o mesmo que Feminino. Não podemos deixar descrito dessa maneira pois o modelo \n",
    "criado poderia aprender algo distinto com todas essas classificações."
   ]
  },
  {
   "cell_type": "code",
   "execution_count": 11,
   "id": "12a01f70-f9d5-4f49-8999-199f3085b3c9",
   "metadata": {},
   "outputs": [
    {
     "data": {
      "text/plain": [
       "<AxesSubplot:xlabel='Genero'>"
      ]
     },
     "execution_count": 11,
     "metadata": {},
     "output_type": "execute_result"
    },
    {
     "data": {
      "image/png": "[encoded data removed]",
      "text/plain": [
       "<Figure size 432x288 with 1 Axes>"
      ]
     },
     "metadata": {
      "needs_background": "light"
     },
     "output_type": "display_data"
    }
   ],
   "source": [
    "# gráfico de barras para Genero\n",
    "agrup_genero.plot.bar(color='blue')"
   ]
  },
  {
   "cell_type": "markdown",
   "id": "4628a7bc-60fd-42f2-b7a0-fc81d4efb2c2",
   "metadata": {},
   "source": [
    "Perceba a quantidade de denominações diferentes. Deveremos tratar todas essas estruturas."
   ]
  },
  {
   "cell_type": "markdown",
   "id": "a620b175-4356-41fc-812e-7eda8d526d9e",
   "metadata": {},
   "source": [
    "### Etapa 2\n",
    "\n",
    "Nessa etapa vamos realizar uma análise dos dados numéricos, ou seja, vamos investigar os dados para\n",
    "termos uma ideia do que cada informação dentro das características que apresentam-se \n",
    "como \"Score\", \"Idade\", \"Saldo\" e \"Salario\" significam.\n",
    "\n",
    "- É importante salientar que também podemos encontrar problemas dentro de variáveis que são numéricas.\n",
    "\n",
    "#### **Analisando Score**"
   ]
  },
  {
   "cell_type": "code",
   "execution_count": 12,
   "id": "d925b56a-8101-4b34-98c8-2dc9b48fbd3e",
   "metadata": {},
   "outputs": [
    {
     "data": {
      "text/plain": [
       "count    999.000000\n",
       "mean     648.621622\n",
       "std       98.264219\n",
       "min      376.000000\n",
       "25%      580.000000\n",
       "50%      653.000000\n",
       "75%      721.000000\n",
       "max      850.000000\n",
       "Name: Score, dtype: float64"
      ]
     },
     "execution_count": 12,
     "metadata": {},
     "output_type": "execute_result"
    }
   ],
   "source": [
    "# explorando a variável Score\n",
    "dataset['Score'].describe()"
   ]
  },
  {
   "cell_type": "markdown",
   "id": "aed4d6ea-980f-435f-9e1a-900e693349a5",
   "metadata": {},
   "source": [
    "Observando os dados, podemos verificar que foram analisados as 999 linhas, sendo a média de todos \n",
    "os scores iguais a 648.62, o desvio padrão de 98, um valor mínimo de 376 e um máximo de 850. Note como\n",
    "o valor de média 648.62 está próximo da mediana 653.00. Logo não parece existir nenhum valor muito \n",
    "discrepante no score."
   ]
  },
  {
   "cell_type": "code",
   "execution_count": 13,
   "id": "232be643-8919-442f-b92c-322dd3aede73",
   "metadata": {},
   "outputs": [
    {
     "data": {
      "text/plain": [
       "Text(0.5, 1.0, 'Score')"
      ]
     },
     "execution_count": 13,
     "metadata": {},
     "output_type": "execute_result"
    },
    {
     "data": {
      "image/png": "[encoded data removed]",
      "text/plain": [
       "<Figure size 432x288 with 1 Axes>"
      ]
     },
     "metadata": {
      "needs_background": "light"
     },
     "output_type": "display_data"
    }
   ],
   "source": [
    "#Visualizando com um boxplot\n",
    "sns.boxplot(dataset['Score']).set_title('Score')"
   ]
  },
  {
   "cell_type": "markdown",
   "id": "8f54228f-bf5a-4668-afec-00f324e2f13e",
   "metadata": {},
   "source": [
    "O boxplot nos mostra como os valores de Score estão agrupados, temos que os valores variam de \n",
    "aproximadamente 400 para 800, que o primeiro quartil é próximo a 600 o segundo quartil é próximo\n",
    "a 700 e a mediana está entre 600 e 700. Portanto os dados parecem não apresentar problemas."
   ]
  },
  {
   "cell_type": "code",
   "execution_count": 14,
   "id": "09685e69-4b48-4ae1-a12c-29f4bafe7f2f",
   "metadata": {},
   "outputs": [
    {
     "data": {
      "text/plain": [
       "Text(0.5, 1.0, 'Score')"
      ]
     },
     "execution_count": 14,
     "metadata": {},
     "output_type": "execute_result"
    },
    {
     "data": {
      "image/png": "[encoded data removed]",
      "text/plain": [
       "<Figure size 432x288 with 1 Axes>"
      ]
     },
     "metadata": {
      "needs_background": "light"
     },
     "output_type": "display_data"
    }
   ],
   "source": [
    "# Visualizando dados com um histograma\n",
    "sns.histplot(dataset['Score']).set_title('Score')"
   ]
  },
  {
   "cell_type": "markdown",
   "id": "d33b172a-d55a-43d7-b7da-c1e9f40f67da",
   "metadata": {},
   "source": [
    "A distribuição do Score é muito semelhante a uma distribuição normal, portanto até este momento não \n",
    "é necessário fornecer nenhum tratamento especial para a variável Score."
   ]
  },
  {
   "cell_type": "markdown",
   "id": "96db14d4-2038-4d59-93de-11b819da009e",
   "metadata": {},
   "source": [
    "#### **Analisando Idade**"
   ]
  },
  {
   "cell_type": "code",
   "execution_count": 15,
   "id": "526543e3-23a8-4c9e-92bf-165d7e3b8b6c",
   "metadata": {},
   "outputs": [
    {
     "data": {
      "text/plain": [
       "count    999.000000\n",
       "mean      38.902903\n",
       "std       11.401912\n",
       "min      -20.000000\n",
       "25%       32.000000\n",
       "50%       37.000000\n",
       "75%       44.000000\n",
       "max      140.000000\n",
       "Name: Idade, dtype: float64"
      ]
     },
     "execution_count": 15,
     "metadata": {},
     "output_type": "execute_result"
    }
   ],
   "source": [
    "# explorando a variável Idade\n",
    "dataset['Idade'].describe()"
   ]
  },
  {
   "cell_type": "markdown",
   "id": "ac64db7b-f099-414d-8fb3-68c9fd43ee27",
   "metadata": {},
   "source": [
    "Observando os dados de saida já percebemos muito rapidamente que parecem existir problemas na idade, uma\n",
    "vez que o valor mínimo da idade é -20, não existem idades negativas, provavelmente é um erro humano \n",
    "associado a cadastro. O valor máximo da idade também parece errado, já que idades de 140 anos são raras em\n",
    "nossa sociedade (talvez exista em tempos bíblicos hehe).\n",
    "\n",
    "Devemos perceber ainda que a média 38.92 e a mediana 37 são valores próximos, esse fato demostra que em \n",
    "sua totalidade os dados estão corretos, devendo haver realmente poucos casos discrepantes."
   ]
  },
  {
   "cell_type": "code",
   "execution_count": 16,
   "id": "524dbd62-e05b-48e7-8d76-7c1ae106a321",
   "metadata": {},
   "outputs": [
    {
     "data": {
      "text/plain": [
       "Text(0.5, 1.0, 'Idade')"
      ]
     },
     "execution_count": 16,
     "metadata": {},
     "output_type": "execute_result"
    },
    {
     "data": {
      "image/png": "[encoded data removed]",
      "text/plain": [
       "<Figure size 432x288 with 1 Axes>"
      ]
     },
     "metadata": {
      "needs_background": "light"
     },
     "output_type": "display_data"
    }
   ],
   "source": [
    "# boxplot da idade\n",
    "sns.boxplot(dataset['Idade']).set_title('Idade')"
   ]
  },
  {
   "cell_type": "markdown",
   "id": "34014629-a36f-46a5-be68-eae97630640c",
   "metadata": {},
   "source": [
    "Podemos observar pelo boxplot que acima de 80 anos somente existe um único ponto, enquanto abaixo de zero \n",
    "existem mais de um ponto. Notadamente era o que esperavamos (não são todos os pontos fora do domínio da \n",
    "idade)."
   ]
  },
  {
   "cell_type": "code",
   "execution_count": 17,
   "id": "2a5a6754-ff61-42e6-a595-cc71cc8da105",
   "metadata": {},
   "outputs": [
    {
     "data": {
      "text/plain": [
       "Text(0.5, 1.0, 'Idade')"
      ]
     },
     "execution_count": 17,
     "metadata": {},
     "output_type": "execute_result"
    },
    {
     "data": {
      "image/png": "[encoded data removed]",
      "text/plain": [
       "<Figure size 432x288 with 1 Axes>"
      ]
     },
     "metadata": {
      "needs_background": "light"
     },
     "output_type": "display_data"
    }
   ],
   "source": [
    "# Histograma para idade\n",
    "sns.histplot(dataset['Idade']).set_title('Idade')"
   ]
  },
  {
   "cell_type": "markdown",
   "id": "685fde35-8924-414b-8eb9-d5a68cc1f10a",
   "metadata": {},
   "source": [
    "Pelo histograma podemos perceber que existe um valor idade em zero, uma idade entre zero e -20 \n",
    "e um valor em -20, já para idades acima de 80 anos somente temos um único valor. Devemos encontrar\n",
    "uma maneira de analisarmos esses valores."
   ]
  },
  {
   "cell_type": "markdown",
   "id": "40f73dd3-75f9-481f-882c-dee52a589c85",
   "metadata": {
    "tags": []
   },
   "source": [
    "#### **Analisando Saldo**"
   ]
  },
  {
   "cell_type": "code",
   "execution_count": 18,
   "id": "08ea98e8-702a-4d3f-99b6-a91a3fe8c2af",
   "metadata": {},
   "outputs": [
    {
     "data": {
      "text/plain": [
       "count    9.990000e+02\n",
       "mean     7.164928e+06\n",
       "std      6.311840e+06\n",
       "min      0.000000e+00\n",
       "25%      0.000000e+00\n",
       "50%      8.958835e+06\n",
       "75%      1.258684e+07\n",
       "max      2.117743e+07\n",
       "Name: Saldo, dtype: float64"
      ]
     },
     "execution_count": 18,
     "metadata": {},
     "output_type": "execute_result"
    }
   ],
   "source": [
    "dataset['Saldo'].describe()"
   ]
  },
  {
   "cell_type": "markdown",
   "id": "1894566b-f3bc-4326-8cd1-241b80d3d557",
   "metadata": {},
   "source": [
    "Percebemos valores elevados para o saldo. A média é um valor também muito grande, note como o desvio padrão\n",
    "é da ordem da média, logo um desvio muito elevado. O valor mínimo de saldo é zero parecendo ser um valor\n",
    "coerente, o primeiro quartil sedo zero, a mediana um valor próximo a média e o segundo quartil um valor\n",
    "elevado."
   ]
  },
  {
   "cell_type": "code",
   "execution_count": 19,
   "id": "79afc45a-9f70-4c6f-8f2d-b47b968d61d9",
   "metadata": {},
   "outputs": [
    {
     "data": {
      "text/plain": [
       "Text(0.5, 1.0, 'Saldo')"
      ]
     },
     "execution_count": 19,
     "metadata": {},
     "output_type": "execute_result"
    },
    {
     "data": {
      "image/png": "[encoded data removed]",
      "text/plain": [
       "<Figure size 432x288 with 1 Axes>"
      ]
     },
     "metadata": {
      "needs_background": "light"
     },
     "output_type": "display_data"
    }
   ],
   "source": [
    "# boxplot idade\n",
    "sns.boxplot(dataset['Saldo']).set_title('Saldo')"
   ]
  },
  {
   "cell_type": "code",
   "execution_count": 20,
   "id": "b7efdc31-51c9-4b1a-8c88-9e25d8d1281d",
   "metadata": {},
   "outputs": [
    {
     "data": {
      "text/plain": [
       "Text(0.5, 1.0, 'Saldo')"
      ]
     },
     "execution_count": 20,
     "metadata": {},
     "output_type": "execute_result"
    },
    {
     "data": {
      "image/png": "[encoded data removed]",
      "text/plain": [
       "<Figure size 432x288 with 1 Axes>"
      ]
     },
     "metadata": {
      "needs_background": "light"
     },
     "output_type": "display_data"
    }
   ],
   "source": [
    "# Ditribuição de dados pelo histograma\n",
    "sns.histplot(dataset['Saldo']).set_title('Saldo')"
   ]
  },
  {
   "cell_type": "markdown",
   "id": "cb1ee594-46f2-4bbe-bc67-3d4c488aaae0",
   "metadata": {},
   "source": [
    "Observe pelo histograma como realmente existe uma grande quantidade de pessoas que apresentam valores\n",
    "de saldo iguais a zero. Equanto o outro conjunto de pessoas apresentam valores em torno de uma média\n",
    "sendo muito parecido com uma distribuição gaussiana."
   ]
  },
  {
   "cell_type": "markdown",
   "id": "f07b44ab-98da-4644-a6f8-56614dba97a4",
   "metadata": {},
   "source": [
    "#### **Analisando Salário**"
   ]
  },
  {
   "cell_type": "code",
   "execution_count": 21,
   "id": "f89bda56-d6fa-463f-8354-0bc3df849395",
   "metadata": {},
   "outputs": [
    {
     "data": {
      "text/plain": [
       "count    9.920000e+02\n",
       "mean     3.528762e+07\n",
       "std      5.305800e+08\n",
       "min      9.677000e+03\n",
       "25%      3.029011e+06\n",
       "50%      8.703250e+06\n",
       "75%      1.405213e+07\n",
       "max      1.193469e+10\n",
       "Name: Salario, dtype: float64"
      ]
     },
     "execution_count": 21,
     "metadata": {},
     "output_type": "execute_result"
    }
   ],
   "source": [
    "# Descrevendo os dados\n",
    "dataset['Salario'].describe()"
   ]
  },
  {
   "cell_type": "markdown",
   "id": "32168a9e-4528-439f-9d05-3b486dd7385d",
   "metadata": {},
   "source": [
    "Percebe-se que valores de média e mediana estão próximos, o valor do desvio-padrão é bem elevado, o valor de\n",
    "mínimo e máximo são parecidos, então parece apresentar uma certa regularidade nos resultados."
   ]
  },
  {
   "cell_type": "code",
   "execution_count": 22,
   "id": "1944f5e4-6d06-4fb4-871a-940fade20aad",
   "metadata": {},
   "outputs": [
    {
     "data": {
      "text/plain": [
       "Text(0.5, 1.0, 'Salário')"
      ]
     },
     "execution_count": 22,
     "metadata": {},
     "output_type": "execute_result"
    },
    {
     "data": {
      "image/png": "[encoded data removed]",
      "text/plain": [
       "<Figure size 432x288 with 1 Axes>"
      ]
     },
     "metadata": {
      "needs_background": "light"
     },
     "output_type": "display_data"
    }
   ],
   "source": [
    "# Escrevendo o boxplot para salário\n",
    "sns.boxplot(dataset['Salario']).set_title('Salário')"
   ]
  },
  {
   "cell_type": "markdown",
   "id": "f3623766-de89-4883-ac61-e49daff73b1c",
   "metadata": {},
   "source": [
    "O nosso boxplot ficou bem diferente. Esse evento ocorre devido ao fato de existir uma concentração muito \n",
    "grande de valores próximo ao zero. O gráfico ainda mostra valores que estão fora do padrão, ou seja, são \n",
    "erros e podem prejudicar a análise do nosso modelo. Assim deveremos eliminar esses valores e atribuir valores de mediana.\n"
   ]
  },
  {
   "cell_type": "code",
   "execution_count": 23,
   "id": "c8bb8cca-815a-48a2-a4b4-528a9b72d287",
   "metadata": {},
   "outputs": [
    {
     "name": "stderr",
     "output_type": "stream",
     "text": [
      "/tmp/ipykernel_111724/3511276222.py:2: UserWarning: \n",
      "\n",
      "`distplot` is a deprecated function and will be removed in seaborn v0.14.0.\n",
      "\n",
      "Please adapt your code to use either `displot` (a figure-level function with\n",
      "similar flexibility) or `histplot` (an axes-level function for histograms).\n",
      "\n",
      "For a guide to updating your code to use the new functions, please see\n",
      "https://gist.github.com/mwaskom/de44147ed2974457ad6372750bbe5751\n",
      "\n",
      "  sns.distplot(dataset['Salario']).set_title('Salário')\n"
     ]
    },
    {
     "data": {
      "text/plain": [
       "Text(0.5, 1.0, 'Salário')"
      ]
     },
     "execution_count": 23,
     "metadata": {},
     "output_type": "execute_result"
    },
    {
     "data": {
      "image/png": "[encoded data removed]",
      "text/plain": [
       "<Figure size 432x288 with 1 Axes>"
      ]
     },
     "metadata": {
      "needs_background": "light"
     },
     "output_type": "display_data"
    }
   ],
   "source": [
    "# Histograma para salário.\n",
    "sns.distplot(dataset['Salario']).set_title('Salário')"
   ]
  },
  {
   "cell_type": "markdown",
   "id": "cc37efd8-656b-4be7-aec8-0e8b564d61eb",
   "metadata": {},
   "source": [
    "Note como pelo histograma temos uma distribuição distorcida para próximo de valor igual a zero.\n",
    "Como uma grande quantidade de clientes apresentam valores iguais a zero, então não podemos observer \n",
    "o conjunto de outros valores."
   ]
  },
  {
   "cell_type": "markdown",
   "id": "3a6aa21f-4ca6-4046-b442-d98e687a169b",
   "metadata": {},
   "source": [
    "### Etapa 3\n",
    "\n",
    "Verificação de valores não disponíveis\n",
    "\n",
    "Agora deveremos observar se existem valores que estão não disponíveis. Lembre-se que valores não\n",
    "disponíveis são diferentes de valores iguais a zero."
   ]
  },
  {
   "cell_type": "code",
   "execution_count": 24,
   "id": "492bfb1b-7d12-4244-9e83-664598c70269",
   "metadata": {},
   "outputs": [
    {
     "data": {
      "text/plain": [
       "ID                0\n",
       "Score             0\n",
       "Estado            0\n",
       "Genero            8\n",
       "Idade             0\n",
       "Patrimonio        0\n",
       "Saldo             0\n",
       "Produtos          0\n",
       "TemCartCredito    0\n",
       "Ativo             0\n",
       "Salario           7\n",
       "Saiu              0\n",
       "dtype: int64"
      ]
     },
     "execution_count": 24,
     "metadata": {},
     "output_type": "execute_result"
    }
   ],
   "source": [
    "# Verificando valores NAN (não disponíveis)\n",
    "dataset.isnull().sum()"
   ]
  },
  {
   "cell_type": "markdown",
   "id": "7f24b0be-5b9e-49a2-9627-9dbbf4d824e0",
   "metadata": {},
   "source": [
    "O método .isnull() verifica se existem valores não disponíveis em nosso dataset, logo depois somamos\n",
    "a quantidade de valores não disponíveis para cada categoria com o método .sum().\n",
    "\n",
    "Note que existem 8 valores não disponíveis para Genero e 7 para Salario. Assim, temos mais um problema\n",
    "para resolver. Valores NAN em uma variável categórica (Genero) e valores NAN em uma variável numérica \n",
    "(Salario)."
   ]
  },
  {
   "cell_type": "markdown",
   "id": "ac9efd9b-0963-4da0-9092-052438d5dc04",
   "metadata": {},
   "source": [
    "**Etapa de Análise exploratória Concluida.** \n",
    "\n",
    "Terminamos nossas etapas que envolvem as análises exploratória dos dados. Agora podemos iniciar a parte\n",
    "em que modificamos os dados que apresentam erros para nosso modelo."
   ]
  },
  {
   "cell_type": "markdown",
   "id": "c3a438f9-13d5-4892-8f39-dbb8849ed015",
   "metadata": {},
   "source": [
    "# Tratamento de erros"
   ]
  },
  {
   "cell_type": "markdown",
   "id": "6a4f582b-e6c0-48a1-be21-6c20af389937",
   "metadata": {},
   "source": [
    "### Etapa 1"
   ]
  },
  {
   "cell_type": "markdown",
   "id": "f5102417-f025-48dc-abe1-8feb5c00c896",
   "metadata": {},
   "source": [
    "Nessa primeira etapa vamos descrever novamente o salário e substituir os valores faltantes\n",
    "pela mediana. Vamos verificar novamente os valores faltantes na variável salário."
   ]
  },
  {
   "cell_type": "code",
   "execution_count": 25,
   "id": "7cb7e177-8dcb-4a0f-a86c-bcd85a7d1904",
   "metadata": {},
   "outputs": [
    {
     "data": {
      "text/plain": [
       "7"
      ]
     },
     "execution_count": 25,
     "metadata": {},
     "output_type": "execute_result"
    }
   ],
   "source": [
    "dataset['Salario'].isnull().sum()"
   ]
  },
  {
   "cell_type": "code",
   "execution_count": 26,
   "id": "0a3d0138-4715-46e3-8fdb-616f9347053b",
   "metadata": {},
   "outputs": [
    {
     "data": {
      "text/plain": [
       "count    9.920000e+02\n",
       "mean     3.528762e+07\n",
       "std      5.305800e+08\n",
       "min      9.677000e+03\n",
       "25%      3.029011e+06\n",
       "50%      8.703250e+06\n",
       "75%      1.405213e+07\n",
       "max      1.193469e+10\n",
       "Name: Salario, dtype: float64"
      ]
     },
     "execution_count": 26,
     "metadata": {},
     "output_type": "execute_result"
    }
   ],
   "source": [
    "dataset['Salario'].describe()"
   ]
  },
  {
   "cell_type": "code",
   "execution_count": 27,
   "id": "5be20fbf-5615-4c16-b78f-0a38cb1e8793",
   "metadata": {},
   "outputs": [
    {
     "data": {
      "text/plain": [
       "70518.0"
      ]
     },
     "execution_count": 27,
     "metadata": {},
     "output_type": "execute_result"
    }
   ],
   "source": [
    "mediana_salario = sts.median(dataset['Salario'])\n",
    "mediana_salario"
   ]
  },
  {
   "cell_type": "code",
   "execution_count": 28,
   "id": "ddccbb68-d224-4145-8398-872446ee48e9",
   "metadata": {},
   "outputs": [],
   "source": [
    "# Substituindo valores faltantes (NAN) pela mediana\n",
    "dataset['Salario'].fillna(mediana_salario, inplace=True)"
   ]
  },
  {
   "cell_type": "markdown",
   "id": "7e827a7e-54b1-4a04-ba21-972eab378324",
   "metadata": {},
   "source": [
    "O que o comando acima está mandando fazer é: na coluna de dados Salário, preencha (fill) os\n",
    "valores faltantes (na) pela mediana de salário, tudo isso deve ser realizando inplace ou seja\n",
    "sem criar um objeto."
   ]
  },
  {
   "cell_type": "code",
   "execution_count": 29,
   "id": "161e7f0d-0cab-4c63-9e34-fe9a98eff8c6",
   "metadata": {},
   "outputs": [
    {
     "data": {
      "text/plain": [
       "0"
      ]
     },
     "execution_count": 29,
     "metadata": {},
     "output_type": "execute_result"
    }
   ],
   "source": [
    "# Verificando se ainda existem valores faltantes no salario\n",
    "dataset['Salario'].isnull().sum()"
   ]
  },
  {
   "cell_type": "markdown",
   "id": "e780cbe6-4936-4352-acfb-44febb71657f",
   "metadata": {},
   "source": [
    "Note como agora não temos mais valores faltantes no salário. Agora podemos ver como ficaram os \n",
    "resultados dessa etapa."
   ]
  },
  {
   "cell_type": "code",
   "execution_count": 30,
   "id": "842d5212-ad1b-4395-8a4e-4389ad96a260",
   "metadata": {},
   "outputs": [
    {
     "data": {
      "text/plain": [
       "count    9.990000e+02\n",
       "mean     3.504085e+07\n",
       "std      5.287241e+08\n",
       "min      9.677000e+03\n",
       "25%      2.856485e+06\n",
       "50%      8.641028e+06\n",
       "75%      1.402954e+07\n",
       "max      1.193469e+10\n",
       "Name: Salario, dtype: float64"
      ]
     },
     "execution_count": 30,
     "metadata": {},
     "output_type": "execute_result"
    }
   ],
   "source": [
    "dataset['Salario'].describe()"
   ]
  },
  {
   "cell_type": "code",
   "execution_count": 31,
   "id": "630a6d96-d47a-4b77-b5fe-d0c70e2a6626",
   "metadata": {},
   "outputs": [
    {
     "data": {
      "text/plain": [
       "Text(0.5, 1.0, 'Salário')"
      ]
     },
     "execution_count": 31,
     "metadata": {},
     "output_type": "execute_result"
    },
    {
     "data": {
      "image/png": "[encoded data removed]",
      "text/plain": [
       "<Figure size 432x288 with 1 Axes>"
      ]
     },
     "metadata": {
      "needs_background": "light"
     },
     "output_type": "display_data"
    }
   ],
   "source": [
    "sns.boxplot(dataset['Salario']).set_title('Salário')"
   ]
  },
  {
   "cell_type": "code",
   "execution_count": 32,
   "id": "1a81b36a-acce-4627-a909-f9519a0c5ac0",
   "metadata": {},
   "outputs": [
    {
     "name": "stderr",
     "output_type": "stream",
     "text": [
      "/tmp/ipykernel_111724/2580396449.py:1: UserWarning: \n",
      "\n",
      "`distplot` is a deprecated function and will be removed in seaborn v0.14.0.\n",
      "\n",
      "Please adapt your code to use either `displot` (a figure-level function with\n",
      "similar flexibility) or `histplot` (an axes-level function for histograms).\n",
      "\n",
      "For a guide to updating your code to use the new functions, please see\n",
      "https://gist.github.com/mwaskom/de44147ed2974457ad6372750bbe5751\n",
      "\n",
      "  sns.distplot(dataset['Salario']).set_title('Salário')\n"
     ]
    },
    {
     "data": {
      "text/plain": [
       "Text(0.5, 1.0, 'Salário')"
      ]
     },
     "execution_count": 32,
     "metadata": {},
     "output_type": "execute_result"
    },
    {
     "data": {
      "image/png": "[encoded data removed]",
      "text/plain": [
       "<Figure size 432x288 with 1 Axes>"
      ]
     },
     "metadata": {
      "needs_background": "light"
     },
     "output_type": "display_data"
    }
   ],
   "source": [
    "sns.distplot(dataset['Salario']).set_title('Salário')"
   ]
  },
  {
   "cell_type": "markdown",
   "id": "a4ddbf80-5869-422d-8328-9ab8b4e11d74",
   "metadata": {},
   "source": [
    "Podemos observar que os valores faltantes não impactaram de maneira determinante nossos \n",
    "resultados."
   ]
  },
  {
   "cell_type": "markdown",
   "id": "6d1b4b89-0aaf-46b2-8841-61dd219d0e0d",
   "metadata": {},
   "source": [
    "#### **Tratando valores de Genero**"
   ]
  },
  {
   "cell_type": "code",
   "execution_count": 33,
   "id": "ffcac10f-db08-4f4d-b3d8-fce695127f0a",
   "metadata": {},
   "outputs": [
    {
     "data": {
      "text/plain": [
       "Genero\n",
       "F              2\n",
       "Fem            1\n",
       "Feminino     461\n",
       "M              6\n",
       "Masculino    521\n",
       "dtype: int64"
      ]
     },
     "execution_count": 33,
     "metadata": {},
     "output_type": "execute_result"
    }
   ],
   "source": [
    "agrupamento_Genero = dataset.groupby(['Genero']).size()\n",
    "agrupamento_Genero"
   ]
  },
  {
   "cell_type": "markdown",
   "id": "d04edd4f-8776-41aa-876a-b8052c5d6d6a",
   "metadata": {},
   "source": [
    "Observe como deveremos agrupar os dados."
   ]
  },
  {
   "cell_type": "code",
   "execution_count": 34,
   "id": "49e2b1fd-6741-43f8-bf20-bfcf3f89d5fa",
   "metadata": {},
   "outputs": [
    {
     "data": {
      "text/plain": [
       "8"
      ]
     },
     "execution_count": 34,
     "metadata": {},
     "output_type": "execute_result"
    }
   ],
   "source": [
    "dataset['Genero'].isnull().sum()"
   ]
  },
  {
   "cell_type": "markdown",
   "id": "1745c675-b094-46de-aca8-54cf6b034f31",
   "metadata": {},
   "source": [
    "Existem portanto oito valores faltantes, dentro da variável categórica Genero. Para que \n",
    "esses dados estejam corretos deveremos usar a moda para substitui-los. Como a moda é o \n",
    "parâmetro Masculino, então vamos substituir todos os valores faltantes por Masculino."
   ]
  },
  {
   "cell_type": "code",
   "execution_count": 35,
   "id": "0938c1b2-5ae1-455c-ba3f-0835f90d565a",
   "metadata": {},
   "outputs": [],
   "source": [
    "dataset['Genero'].fillna('Masculino', inplace=True)"
   ]
  },
  {
   "cell_type": "code",
   "execution_count": 36,
   "id": "af7090b6-4833-497e-ada9-f7bc40b1de08",
   "metadata": {},
   "outputs": [
    {
     "data": {
      "text/plain": [
       "0"
      ]
     },
     "execution_count": 36,
     "metadata": {},
     "output_type": "execute_result"
    }
   ],
   "source": [
    "dataset['Genero'].isnull().sum()"
   ]
  },
  {
   "cell_type": "markdown",
   "id": "a4a1cd7c-cd08-4075-8006-4e9983af88c4",
   "metadata": {},
   "source": [
    "Agora não temos mais valores faltantes na variável Genero. Se observarmos bem os valores\n",
    "associados a variável Genero não estão padronizados, logo devemos encontrar uma maneira de \n",
    "padronizar os resultados. Devemos tranformar a letra M para Masculino e Fem e F para Feminino."
   ]
  },
  {
   "cell_type": "code",
   "execution_count": 37,
   "id": "57183b34-736c-4b6a-9a8a-5289b2921cf0",
   "metadata": {},
   "outputs": [],
   "source": [
    "# Padronizando dados Masculino\n",
    "# ----------------------------\n",
    "# Utilizaremos o método .loc[<linha>, <coluna>]\n",
    "# O método .loc[] apresenta como caracteristíca filtrar resultados por linha e coluna\n",
    "# Portanto usando esse método poderemos encontrar os valores de interesse  e realizar\n",
    "# as devidas substituições.\n",
    "# Na linha abaixo o que estamos fazendo é: se na linha da coluna Genero tivermos a string 'M'\n",
    "# nessa coluna, substituir pela string 'Masculino'.\n",
    " \n",
    "dataset.loc[dataset['Genero'] == 'M', 'Genero'] = 'Masculino'"
   ]
  },
  {
   "cell_type": "code",
   "execution_count": 38,
   "id": "1ea9713f-f918-4e3c-82c2-017f48d7b24b",
   "metadata": {},
   "outputs": [],
   "source": [
    "# Padronizando dados Feminino\n",
    "# ---------------------------\n",
    "# Utilizaremos o método .loc[<linha>, <coluna>]\n",
    "# O método .loc[] apresenta como caracteristíca filtrar resultados por linha e coluna\n",
    "# Portanto usando esse método poderemos encontrar os valores de interesse  e realizar\n",
    "# as devidas substituições.\n",
    "# Essa tarefa envolve filtrar os dados e adicionar o método de conjunto .isin(), uma vez\n",
    "# que temos mais de um dado para ser modificado.\n",
    "\n",
    "dataset.loc[dataset['Genero'].isin(['F', 'Fem']), 'Genero'] = 'Feminino'"
   ]
  },
  {
   "cell_type": "code",
   "execution_count": 39,
   "id": "bedee40d-2f51-4585-af35-fd57a7887450",
   "metadata": {},
   "outputs": [
    {
     "data": {
      "text/plain": [
       "Genero\n",
       "Feminino     464\n",
       "Masculino    535\n",
       "dtype: int64"
      ]
     },
     "execution_count": 39,
     "metadata": {},
     "output_type": "execute_result"
    }
   ],
   "source": [
    "agrupando_genero = dataset.groupby(['Genero']).size()\n",
    "agrupando_genero"
   ]
  },
  {
   "cell_type": "markdown",
   "id": "00aca570-aa84-4dda-b1a8-e1ec7474a44d",
   "metadata": {},
   "source": [
    "Agora agrupamos todos os dados de maneira satisfatória, pois só temos valores \n",
    "para Feminino e Masculino."
   ]
  },
  {
   "cell_type": "markdown",
   "id": "a13dc5e2-afde-48c3-9801-812adc45d468",
   "metadata": {},
   "source": [
    "#### **Tratando valores de Idade**"
   ]
  },
  {
   "cell_type": "markdown",
   "id": "0213a87d-bc83-4d31-8f32-f2cb29db5ac2",
   "metadata": {},
   "source": [
    "Sabemos que existem problemas na idade uma vez que existem idades que estão fora do domínio\n",
    "dos dados."
   ]
  },
  {
   "cell_type": "code",
   "execution_count": 40,
   "id": "9ccd29da-83f2-462c-b5e9-eea8b904ece4",
   "metadata": {},
   "outputs": [
    {
     "data": {
      "text/plain": [
       "count    999.000000\n",
       "mean      38.902903\n",
       "std       11.401912\n",
       "min      -20.000000\n",
       "25%       32.000000\n",
       "50%       37.000000\n",
       "75%       44.000000\n",
       "max      140.000000\n",
       "Name: Idade, dtype: float64"
      ]
     },
     "execution_count": 40,
     "metadata": {},
     "output_type": "execute_result"
    }
   ],
   "source": [
    "# Verificando novamente as idades que estão fora do dominío\n",
    "dataset['Idade'].describe()"
   ]
  },
  {
   "cell_type": "markdown",
   "id": "c3be75f5-7288-4a42-a4f1-1e8f95842771",
   "metadata": {},
   "source": [
    "Vamos verificar de fato quantos valores são negativos e quandos valores são maiores que 120."
   ]
  },
  {
   "cell_type": "code",
   "execution_count": 42,
   "id": "18ae3d90-47f7-4ce0-9f86-7c87f6480000",
   "metadata": {},
   "outputs": [
    {
     "data": {
      "text/html": [
       "<div>\n",
       "<style scoped>\n",
       "    .dataframe tbody tr th:only-of-type {\n",
       "        vertical-align: middle;\n",
       "    }\n",
       "\n",
       "    .dataframe tbody tr th {\n",
       "        vertical-align: top;\n",
       "    }\n",
       "\n",
       "    .dataframe thead th {\n",
       "        text-align: right;\n",
       "    }\n",
       "</style>\n",
       "<table border=\"1\" class=\"dataframe\">\n",
       "  <thead>\n",
       "    <tr style=\"text-align: right;\">\n",
       "      <th></th>\n",
       "      <th>ID</th>\n",
       "      <th>Score</th>\n",
       "      <th>Estado</th>\n",
       "      <th>Genero</th>\n",
       "      <th>Idade</th>\n",
       "      <th>Patrimonio</th>\n",
       "      <th>Saldo</th>\n",
       "      <th>Produtos</th>\n",
       "      <th>TemCartCredito</th>\n",
       "      <th>Ativo</th>\n",
       "      <th>Salario</th>\n",
       "      <th>Saiu</th>\n",
       "    </tr>\n",
       "  </thead>\n",
       "  <tbody>\n",
       "    <tr>\n",
       "      <th>867</th>\n",
       "      <td>869</td>\n",
       "      <td>636</td>\n",
       "      <td>RS</td>\n",
       "      <td>Feminino</td>\n",
       "      <td>-10</td>\n",
       "      <td>1</td>\n",
       "      <td>17083346</td>\n",
       "      <td>1</td>\n",
       "      <td>1</td>\n",
       "      <td>0</td>\n",
       "      <td>11051028.0</td>\n",
       "      <td>1</td>\n",
       "    </tr>\n",
       "    <tr>\n",
       "      <th>984</th>\n",
       "      <td>986</td>\n",
       "      <td>773</td>\n",
       "      <td>RS</td>\n",
       "      <td>Masculino</td>\n",
       "      <td>-20</td>\n",
       "      <td>1</td>\n",
       "      <td>12453278</td>\n",
       "      <td>2</td>\n",
       "      <td>0</td>\n",
       "      <td>1</td>\n",
       "      <td>1172357.0</td>\n",
       "      <td>0</td>\n",
       "    </tr>\n",
       "    <tr>\n",
       "      <th>990</th>\n",
       "      <td>992</td>\n",
       "      <td>655</td>\n",
       "      <td>RS</td>\n",
       "      <td>Masculino</td>\n",
       "      <td>140</td>\n",
       "      <td>5</td>\n",
       "      <td>93147</td>\n",
       "      <td>2</td>\n",
       "      <td>1</td>\n",
       "      <td>0</td>\n",
       "      <td>6621413.0</td>\n",
       "      <td>0</td>\n",
       "    </tr>\n",
       "  </tbody>\n",
       "</table>\n",
       "</div>"
      ],
      "text/plain": [
       "      ID  Score Estado     Genero  Idade  Patrimonio     Saldo  Produtos  \\\n",
       "867  869    636     RS   Feminino    -10           1  17083346         1   \n",
       "984  986    773     RS  Masculino    -20           1  12453278         2   \n",
       "990  992    655     RS  Masculino    140           5     93147         2   \n",
       "\n",
       "     TemCartCredito  Ativo     Salario  Saiu  \n",
       "867               1      0  11051028.0     1  \n",
       "984               0      1   1172357.0     0  \n",
       "990               1      0   6621413.0     0  "
      ]
     },
     "execution_count": 42,
     "metadata": {},
     "output_type": "execute_result"
    }
   ],
   "source": [
    "# No comando abaixo estamos considerando todos os valores que são\n",
    "# menores que zero e todos os valores da linha idade que são maiores\n",
    "# que 120.\n",
    "dataset.loc[(dataset['Idade'] < 0) | (dataset['Idade'] > 120)]"
   ]
  },
  {
   "cell_type": "markdown",
   "id": "d1213d71-9e8e-45ef-a2d2-f2c7150e9882",
   "metadata": {},
   "source": [
    "Podemos verificar que somente três valores estão de acordo com essas características.\n",
    "o que de fato já haviamos percebido em nossa análise exploratória."
   ]
  },
  {
   "cell_type": "code",
   "execution_count": 44,
   "id": "1f8428c3-e6b1-4e7e-907c-7c2d49b057d3",
   "metadata": {},
   "outputs": [
    {
     "data": {
      "text/plain": [
       "Text(0.5, 1.0, 'Idade')"
      ]
     },
     "execution_count": 44,
     "metadata": {},
     "output_type": "execute_result"
    },
    {
     "data": {
      "image/png": "[encoded data removed]",
      "text/plain": [
       "<Figure size 432x288 with 1 Axes>"
      ]
     },
     "metadata": {
      "needs_background": "light"
     },
     "output_type": "display_data"
    }
   ],
   "source": [
    "sns.histplot(dataset['Idade']).set_title('Idade')"
   ]
  },
  {
   "cell_type": "markdown",
   "id": "7347b64f-51bb-4271-9816-548899cbea59",
   "metadata": {},
   "source": [
    "O histograma mostra esses valores."
   ]
  },
  {
   "cell_type": "markdown",
   "id": "7545aad7-b1ec-470e-a47e-aa1cfb93ee92",
   "metadata": {},
   "source": [
    "Tomaremos a mediana para esses resultados."
   ]
  },
  {
   "cell_type": "code",
   "execution_count": 45,
   "id": "cd7c9a02-912c-4a83-8dde-c5381f86f683",
   "metadata": {},
   "outputs": [
    {
     "data": {
      "text/plain": [
       "37"
      ]
     },
     "execution_count": 45,
     "metadata": {},
     "output_type": "execute_result"
    }
   ],
   "source": [
    "mediana_idade = sts.median(dataset['Idade'])\n",
    "mediana_idade"
   ]
  },
  {
   "cell_type": "markdown",
   "id": "1204c388-c126-4a29-812f-ba4f5e49e2e5",
   "metadata": {},
   "source": [
    "Note que a mediana dos resultados foram iguais a 37, portanto podemos fazer a substituição dos\n",
    "valores de interesse."
   ]
  },
  {
   "cell_type": "code",
   "execution_count": 46,
   "id": "3449c990-b727-4202-8b33-815bc5572768",
   "metadata": {},
   "outputs": [],
   "source": [
    "# Fazendo a substituição dos dados de idade fora do domínio\n",
    "dataset.loc[(dataset['Idade'] < 0) | (dataset['Idade'] > 120), 'Idade'] = mediana_idade "
   ]
  },
  {
   "cell_type": "code",
   "execution_count": 47,
   "id": "cbd82924-67a8-472d-a1f6-ad09966cddfd",
   "metadata": {},
   "outputs": [
    {
     "data": {
      "text/html": [
       "<div>\n",
       "<style scoped>\n",
       "    .dataframe tbody tr th:only-of-type {\n",
       "        vertical-align: middle;\n",
       "    }\n",
       "\n",
       "    .dataframe tbody tr th {\n",
       "        vertical-align: top;\n",
       "    }\n",
       "\n",
       "    .dataframe thead th {\n",
       "        text-align: right;\n",
       "    }\n",
       "</style>\n",
       "<table border=\"1\" class=\"dataframe\">\n",
       "  <thead>\n",
       "    <tr style=\"text-align: right;\">\n",
       "      <th></th>\n",
       "      <th>ID</th>\n",
       "      <th>Score</th>\n",
       "      <th>Estado</th>\n",
       "      <th>Genero</th>\n",
       "      <th>Idade</th>\n",
       "      <th>Patrimonio</th>\n",
       "      <th>Saldo</th>\n",
       "      <th>Produtos</th>\n",
       "      <th>TemCartCredito</th>\n",
       "      <th>Ativo</th>\n",
       "      <th>Salario</th>\n",
       "      <th>Saiu</th>\n",
       "    </tr>\n",
       "  </thead>\n",
       "  <tbody>\n",
       "  </tbody>\n",
       "</table>\n",
       "</div>"
      ],
      "text/plain": [
       "Empty DataFrame\n",
       "Columns: [ID, Score, Estado, Genero, Idade, Patrimonio, Saldo, Produtos, TemCartCredito, Ativo, Salario, Saiu]\n",
       "Index: []"
      ]
     },
     "execution_count": 47,
     "metadata": {},
     "output_type": "execute_result"
    }
   ],
   "source": [
    "dataset.loc[(dataset['Idade'] < 0)|(dataset['Idade'] > 120)]"
   ]
  },
  {
   "cell_type": "code",
   "execution_count": 49,
   "id": "666fc958-aa24-4169-9cf7-c210d2c8346a",
   "metadata": {},
   "outputs": [
    {
     "data": {
      "text/plain": [
       "Text(0.5, 1.0, 'Idade')"
      ]
     },
     "execution_count": 49,
     "metadata": {},
     "output_type": "execute_result"
    },
    {
     "data": {
      "image/png": "[encoded data removed]",
      "text/plain": [
       "<Figure size 432x288 with 1 Axes>"
      ]
     },
     "metadata": {
      "needs_background": "light"
     },
     "output_type": "display_data"
    }
   ],
   "source": [
    "sns.histplot(dataset['Idade']).set_title('Idade')"
   ]
  },
  {
   "cell_type": "markdown",
   "id": "b5843efd-26da-4a8f-9a64-db6e49988130",
   "metadata": {},
   "source": [
    "Note como agora não temos mais nenhum valor que esteja fora do domínio dos dados."
   ]
  },
  {
   "cell_type": "markdown",
   "id": "d7a86aaf-66ae-4309-870b-6e487bb4b40b",
   "metadata": {},
   "source": [
    "### **Análise de dados duplicados**\n",
    "\n",
    "Uma das terefas muito importantes é verificar se existem dados duplicados em nossa amostra de\n",
    "dados. A próxima parte iremos realizar exatamente essa tarefa."
   ]
  },
  {
   "cell_type": "code",
   "execution_count": 51,
   "id": "77507169-886f-4404-be49-85156cf99c4d",
   "metadata": {},
   "outputs": [
    {
     "data": {
      "text/html": [
       "<div>\n",
       "<style scoped>\n",
       "    .dataframe tbody tr th:only-of-type {\n",
       "        vertical-align: middle;\n",
       "    }\n",
       "\n",
       "    .dataframe tbody tr th {\n",
       "        vertical-align: top;\n",
       "    }\n",
       "\n",
       "    .dataframe thead th {\n",
       "        text-align: right;\n",
       "    }\n",
       "</style>\n",
       "<table border=\"1\" class=\"dataframe\">\n",
       "  <thead>\n",
       "    <tr style=\"text-align: right;\">\n",
       "      <th></th>\n",
       "      <th>ID</th>\n",
       "      <th>Score</th>\n",
       "      <th>Estado</th>\n",
       "      <th>Genero</th>\n",
       "      <th>Idade</th>\n",
       "      <th>Patrimonio</th>\n",
       "      <th>Saldo</th>\n",
       "      <th>Produtos</th>\n",
       "      <th>TemCartCredito</th>\n",
       "      <th>Ativo</th>\n",
       "      <th>Salario</th>\n",
       "      <th>Saiu</th>\n",
       "    </tr>\n",
       "  </thead>\n",
       "  <tbody>\n",
       "    <tr>\n",
       "      <th>80</th>\n",
       "      <td>81</td>\n",
       "      <td>665</td>\n",
       "      <td>RS</td>\n",
       "      <td>Feminino</td>\n",
       "      <td>34</td>\n",
       "      <td>1</td>\n",
       "      <td>9664554</td>\n",
       "      <td>2</td>\n",
       "      <td>0</td>\n",
       "      <td>0</td>\n",
       "      <td>17141366.0</td>\n",
       "      <td>0</td>\n",
       "    </tr>\n",
       "    <tr>\n",
       "      <th>81</th>\n",
       "      <td>81</td>\n",
       "      <td>665</td>\n",
       "      <td>RS</td>\n",
       "      <td>Feminino</td>\n",
       "      <td>34</td>\n",
       "      <td>1</td>\n",
       "      <td>9664554</td>\n",
       "      <td>2</td>\n",
       "      <td>0</td>\n",
       "      <td>0</td>\n",
       "      <td>17141366.0</td>\n",
       "      <td>0</td>\n",
       "    </tr>\n",
       "  </tbody>\n",
       "</table>\n",
       "</div>"
      ],
      "text/plain": [
       "    ID  Score Estado    Genero  Idade  Patrimonio    Saldo  Produtos  \\\n",
       "80  81    665     RS  Feminino     34           1  9664554         2   \n",
       "81  81    665     RS  Feminino     34           1  9664554         2   \n",
       "\n",
       "    TemCartCredito  Ativo     Salario  Saiu  \n",
       "80               0      0  17141366.0     0  \n",
       "81               0      0  17141366.0     0  "
      ]
     },
     "execution_count": 51,
     "metadata": {},
     "output_type": "execute_result"
    }
   ],
   "source": [
    "dataset[dataset.duplicated(['ID'], keep=False)]"
   ]
  },
  {
   "cell_type": "markdown",
   "id": "47e411aa-73a5-4d36-88a3-66eb6a195d2e",
   "metadata": {},
   "source": [
    "Note como existem dois registros. Logo temos um conjunto de dois valores duplicados. Precisamos eliminar um desses valores."
   ]
  },
  {
   "cell_type": "code",
   "execution_count": 52,
   "id": "5c680ff7-9d8e-44d7-9687-bb24c70d7bdb",
   "metadata": {},
   "outputs": [],
   "source": [
    "# Excluindo um dos Ids\n",
    "# Estamos procurando por dados duplicados na coluna ID\n",
    "# mantendo o primeiro valor e excluindo os outro, \n",
    "# estamos realizando toda operação inplace.\n",
    "\n",
    "dataset.drop_duplicates(subset='ID', keep='first', inplace=True)"
   ]
  },
  {
   "cell_type": "code",
   "execution_count": 53,
   "id": "dd2d5178-7f18-4c50-adb1-315cc66fecc9",
   "metadata": {},
   "outputs": [
    {
     "data": {
      "text/html": [
       "<div>\n",
       "<style scoped>\n",
       "    .dataframe tbody tr th:only-of-type {\n",
       "        vertical-align: middle;\n",
       "    }\n",
       "\n",
       "    .dataframe tbody tr th {\n",
       "        vertical-align: top;\n",
       "    }\n",
       "\n",
       "    .dataframe thead th {\n",
       "        text-align: right;\n",
       "    }\n",
       "</style>\n",
       "<table border=\"1\" class=\"dataframe\">\n",
       "  <thead>\n",
       "    <tr style=\"text-align: right;\">\n",
       "      <th></th>\n",
       "      <th>ID</th>\n",
       "      <th>Score</th>\n",
       "      <th>Estado</th>\n",
       "      <th>Genero</th>\n",
       "      <th>Idade</th>\n",
       "      <th>Patrimonio</th>\n",
       "      <th>Saldo</th>\n",
       "      <th>Produtos</th>\n",
       "      <th>TemCartCredito</th>\n",
       "      <th>Ativo</th>\n",
       "      <th>Salario</th>\n",
       "      <th>Saiu</th>\n",
       "    </tr>\n",
       "  </thead>\n",
       "  <tbody>\n",
       "  </tbody>\n",
       "</table>\n",
       "</div>"
      ],
      "text/plain": [
       "Empty DataFrame\n",
       "Columns: [ID, Score, Estado, Genero, Idade, Patrimonio, Saldo, Produtos, TemCartCredito, Ativo, Salario, Saiu]\n",
       "Index: []"
      ]
     },
     "execution_count": 53,
     "metadata": {},
     "output_type": "execute_result"
    }
   ],
   "source": [
    "dataset[dataset.duplicated(['ID'], keep=False)]"
   ]
  },
  {
   "cell_type": "markdown",
   "id": "46b8b08d-2d41-4a22-9003-3739bdc92dfa",
   "metadata": {},
   "source": [
    "Pela linha acima não existem mais valores duplicados. :)\n",
    "\n",
    "#### **Tratando valores de Estado**\n",
    "\n",
    "Como percebemos para análise de resultados, existem muitos valores de estados que estão fora\n",
    "do domínio do nosso modelo."
   ]
  },
  {
   "cell_type": "code",
   "execution_count": 54,
   "id": "818cfcdf-391f-4903-a0cb-9b132abd2bd4",
   "metadata": {},
   "outputs": [
    {
     "data": {
      "text/plain": [
       "Estado\n",
       "PR    257\n",
       "RS    483\n",
       "SC    258\n",
       "dtype: int64"
      ]
     },
     "execution_count": 54,
     "metadata": {},
     "output_type": "execute_result"
    }
   ],
   "source": [
    "# Estamos substiuindo todos os valores pela moda RS\n",
    "dataset.loc[dataset['Estado'].isin(['RP', 'SP', 'TD']), 'Estado'] = 'RS'\n",
    "agrupando_estado = dataset.groupby(['Estado']).size()\n",
    "agrupando_estado"
   ]
  },
  {
   "cell_type": "markdown",
   "id": "8b486041-7849-4435-a1d6-73ca2dd1c051",
   "metadata": {},
   "source": [
    "Note como agora só temos os estados, Paraná, Rio Grande do Sul e Santa Catarina."
   ]
  },
  {
   "cell_type": "markdown",
   "id": "098ca8fc-81da-4801-8980-a3ab49d6fc5a",
   "metadata": {},
   "source": [
    "#### **Tratando valores de Salários**\n",
    "\n",
    "Não existem regras universais para se tratar valores muito elevados, ou os chamados outliers.\n",
    "Uma das regras utilizadas é verificar se esses valores são duas vezes maiores que os desvio-padrão. Caso esse evento ocorra podemos tratar os resultados.\n"
   ]
  },
  {
   "cell_type": "code",
   "execution_count": 55,
   "id": "212e1a27-309d-41a2-ab8c-514922480c37",
   "metadata": {},
   "outputs": [
    {
     "data": {
      "text/plain": [
       "528988918.4679201"
      ]
     },
     "execution_count": 55,
     "metadata": {},
     "output_type": "execute_result"
    }
   ],
   "source": [
    "desv_salario = sts.stdev(dataset['Salario'])\n",
    "desv_salario\n"
   ]
  },
  {
   "cell_type": "code",
   "execution_count": 56,
   "id": "57548fdd-72c5-4d93-9b5c-1e0d7ac37694",
   "metadata": {},
   "outputs": [
    {
     "data": {
      "text/html": [
       "<div>\n",
       "<style scoped>\n",
       "    .dataframe tbody tr th:only-of-type {\n",
       "        vertical-align: middle;\n",
       "    }\n",
       "\n",
       "    .dataframe tbody tr th {\n",
       "        vertical-align: top;\n",
       "    }\n",
       "\n",
       "    .dataframe thead th {\n",
       "        text-align: right;\n",
       "    }\n",
       "</style>\n",
       "<table border=\"1\" class=\"dataframe\">\n",
       "  <thead>\n",
       "    <tr style=\"text-align: right;\">\n",
       "      <th></th>\n",
       "      <th>ID</th>\n",
       "      <th>Score</th>\n",
       "      <th>Estado</th>\n",
       "      <th>Genero</th>\n",
       "      <th>Idade</th>\n",
       "      <th>Patrimonio</th>\n",
       "      <th>Saldo</th>\n",
       "      <th>Produtos</th>\n",
       "      <th>TemCartCredito</th>\n",
       "      <th>Ativo</th>\n",
       "      <th>Salario</th>\n",
       "      <th>Saiu</th>\n",
       "    </tr>\n",
       "  </thead>\n",
       "  <tbody>\n",
       "    <tr>\n",
       "      <th>7</th>\n",
       "      <td>8</td>\n",
       "      <td>376</td>\n",
       "      <td>PR</td>\n",
       "      <td>Feminino</td>\n",
       "      <td>29</td>\n",
       "      <td>4</td>\n",
       "      <td>11504674</td>\n",
       "      <td>4</td>\n",
       "      <td>1</td>\n",
       "      <td>0</td>\n",
       "      <td>1.193469e+10</td>\n",
       "      <td>1</td>\n",
       "    </tr>\n",
       "    <tr>\n",
       "      <th>116</th>\n",
       "      <td>118</td>\n",
       "      <td>668</td>\n",
       "      <td>PR</td>\n",
       "      <td>Feminino</td>\n",
       "      <td>37</td>\n",
       "      <td>6</td>\n",
       "      <td>1678644</td>\n",
       "      <td>1</td>\n",
       "      <td>1</td>\n",
       "      <td>0</td>\n",
       "      <td>1.156383e+10</td>\n",
       "      <td>0</td>\n",
       "    </tr>\n",
       "    <tr>\n",
       "      <th>170</th>\n",
       "      <td>172</td>\n",
       "      <td>484</td>\n",
       "      <td>RS</td>\n",
       "      <td>Feminino</td>\n",
       "      <td>29</td>\n",
       "      <td>4</td>\n",
       "      <td>13011439</td>\n",
       "      <td>1</td>\n",
       "      <td>1</td>\n",
       "      <td>0</td>\n",
       "      <td>1.640179e+09</td>\n",
       "      <td>0</td>\n",
       "    </tr>\n",
       "    <tr>\n",
       "      <th>230</th>\n",
       "      <td>232</td>\n",
       "      <td>673</td>\n",
       "      <td>RS</td>\n",
       "      <td>Masculino</td>\n",
       "      <td>72</td>\n",
       "      <td>1</td>\n",
       "      <td>0</td>\n",
       "      <td>2</td>\n",
       "      <td>0</td>\n",
       "      <td>1</td>\n",
       "      <td>1.119812e+09</td>\n",
       "      <td>0</td>\n",
       "    </tr>\n",
       "  </tbody>\n",
       "</table>\n",
       "</div>"
      ],
      "text/plain": [
       "      ID  Score Estado     Genero  Idade  Patrimonio     Saldo  Produtos  \\\n",
       "7      8    376     PR   Feminino     29           4  11504674         4   \n",
       "116  118    668     PR   Feminino     37           6   1678644         1   \n",
       "170  172    484     RS   Feminino     29           4  13011439         1   \n",
       "230  232    673     RS  Masculino     72           1         0         2   \n",
       "\n",
       "     TemCartCredito  Ativo       Salario  Saiu  \n",
       "7                 1      0  1.193469e+10     1  \n",
       "116               1      0  1.156383e+10     0  \n",
       "170               1      0  1.640179e+09     0  \n",
       "230               0      1  1.119812e+09     0  "
      ]
     },
     "execution_count": 56,
     "metadata": {},
     "output_type": "execute_result"
    }
   ],
   "source": [
    "# VERIFICANDO se valores seguiem esse padrão\n",
    "dataset.loc[dataset['Salario'] >= 2*desv_salario]"
   ]
  },
  {
   "cell_type": "code",
   "execution_count": 57,
   "id": "fc5601e7-edee-49fa-8218-c780fecfdb54",
   "metadata": {},
   "outputs": [
    {
     "data": {
      "text/plain": [
       "8637195.5"
      ]
     },
     "execution_count": 57,
     "metadata": {},
     "output_type": "execute_result"
    }
   ],
   "source": [
    "mediana_salario = sts.median(dataset['Salario'])\n",
    "mediana_salario"
   ]
  },
  {
   "cell_type": "code",
   "execution_count": 58,
   "id": "d37314a7-25dd-47b3-9ddd-3104009619a8",
   "metadata": {},
   "outputs": [],
   "source": [
    "dataset.loc[dataset['Salario'] >= 2*mediana_salario, 'Salario'] = mediana_salario"
   ]
  },
  {
   "cell_type": "code",
   "execution_count": 59,
   "id": "d08a34ae-d994-4adf-99f1-6b7d755ed49f",
   "metadata": {},
   "outputs": [
    {
     "data": {
      "text/html": [
       "<div>\n",
       "<style scoped>\n",
       "    .dataframe tbody tr th:only-of-type {\n",
       "        vertical-align: middle;\n",
       "    }\n",
       "\n",
       "    .dataframe tbody tr th {\n",
       "        vertical-align: top;\n",
       "    }\n",
       "\n",
       "    .dataframe thead th {\n",
       "        text-align: right;\n",
       "    }\n",
       "</style>\n",
       "<table border=\"1\" class=\"dataframe\">\n",
       "  <thead>\n",
       "    <tr style=\"text-align: right;\">\n",
       "      <th></th>\n",
       "      <th>ID</th>\n",
       "      <th>Score</th>\n",
       "      <th>Estado</th>\n",
       "      <th>Genero</th>\n",
       "      <th>Idade</th>\n",
       "      <th>Patrimonio</th>\n",
       "      <th>Saldo</th>\n",
       "      <th>Produtos</th>\n",
       "      <th>TemCartCredito</th>\n",
       "      <th>Ativo</th>\n",
       "      <th>Salario</th>\n",
       "      <th>Saiu</th>\n",
       "    </tr>\n",
       "  </thead>\n",
       "  <tbody>\n",
       "  </tbody>\n",
       "</table>\n",
       "</div>"
      ],
      "text/plain": [
       "Empty DataFrame\n",
       "Columns: [ID, Score, Estado, Genero, Idade, Patrimonio, Saldo, Produtos, TemCartCredito, Ativo, Salario, Saiu]\n",
       "Index: []"
      ]
     },
     "execution_count": 59,
     "metadata": {},
     "output_type": "execute_result"
    }
   ],
   "source": [
    "dataset.loc[dataset['Salario'] >= 2*mediana_salario]"
   ]
  },
  {
   "cell_type": "markdown",
   "id": "2517cb0b-ff0e-45e6-8f8f-ad9dafdf4b70",
   "metadata": {},
   "source": [
    "Agora não temos mais essa condição para salário."
   ]
  },
  {
   "cell_type": "code",
   "execution_count": null,
   "id": "25eabc4c-684e-44e3-ad25-9bdff62befcc",
   "metadata": {},
   "outputs": [],
   "source": []
  }
 ],
 "metadata": {
  "kernelspec": {
   "display_name": "Python 3 (ipykernel)",
   "language": "python",
   "name": "python3"
  },
  "language_info": {
   "codemirror_mode": {
    "name": "ipython",
    "version": 3
   },
   "file_extension": ".py",
   "mimetype": "text/x-python",
   "name": "python",
   "nbconvert_exporter": "python",
   "pygments_lexer": "ipython3",
   "version": "3.9.7"
  }
 },
 "nbformat": 4,
 "nbformat_minor": 5
}
